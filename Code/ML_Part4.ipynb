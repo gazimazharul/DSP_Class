{
 "cells": [
  {
   "cell_type": "code",
   "execution_count": 3,
   "id": "886019de-735a-4c52-9f2d-0e7f4075570d",
   "metadata": {},
   "outputs": [
    {
     "name": "stdout",
     "output_type": "stream",
     "text": [
      "Collecting imblearn\n",
      "  Downloading imblearn-0.0-py2.py3-none-any.whl.metadata (355 bytes)\n",
      "Collecting imbalanced-learn (from imblearn)\n",
      "  Downloading imbalanced_learn-0.12.3-py3-none-any.whl.metadata (8.3 kB)\n",
      "Requirement already satisfied: numpy>=1.17.3 in c:\\users\\gazim\\appdata\\local\\programs\\python\\python312\\lib\\site-packages (from imbalanced-learn->imblearn) (2.1.0)\n",
      "Requirement already satisfied: scipy>=1.5.0 in c:\\users\\gazim\\appdata\\local\\programs\\python\\python312\\lib\\site-packages (from imbalanced-learn->imblearn) (1.14.1)\n",
      "Requirement already satisfied: scikit-learn>=1.0.2 in c:\\users\\gazim\\appdata\\local\\programs\\python\\python312\\lib\\site-packages (from imbalanced-learn->imblearn) (1.5.1)\n",
      "Requirement already satisfied: joblib>=1.1.1 in c:\\users\\gazim\\appdata\\local\\programs\\python\\python312\\lib\\site-packages (from imbalanced-learn->imblearn) (1.4.2)\n",
      "Requirement already satisfied: threadpoolctl>=2.0.0 in c:\\users\\gazim\\appdata\\local\\programs\\python\\python312\\lib\\site-packages (from imbalanced-learn->imblearn) (3.5.0)\n",
      "Downloading imblearn-0.0-py2.py3-none-any.whl (1.9 kB)\n",
      "Downloading imbalanced_learn-0.12.3-py3-none-any.whl (258 kB)\n",
      "Installing collected packages: imbalanced-learn, imblearn\n",
      "Successfully installed imbalanced-learn-0.12.3 imblearn-0.0\n"
     ]
    }
   ],
   "source": [
    "# How to handle Imbalanced Data in machine learning classification\n",
    "# The slides presented are based on the following Tutorial\n",
    "# https://www.justintodata.com/imbalanced-data-machine-learning-classification/\n",
    "# This tutorial will focus on imbalanced data in machine learning for binary classes,\n",
    "# but you could extend the concept to multi-class. \n",
    "!pip install imblearn #install imblearn if not installed before\n",
    "\n",
    "import pandas as pd\n",
    "from imblearn.over_sampling import RandomOverSampler\n",
    "from imblearn.under_sampling import RandomUnderSampler\n",
    "from imblearn.over_sampling import SMOTE\n",
    "from imblearn.under_sampling import ClusterCentroids\n",
    "from imblearn.combine import SMOTETomek\n",
    "from imblearn.under_sampling import TomekLinks\n",
    "\n",
    "from sklearn.linear_model import LogisticRegression\n",
    "from sklearn.metrics import roc_auc_score\n",
    "from sklearn.model_selection import train_test_split\n",
    "from sklearn.utils import compute_class_weight"
   ]
  },
  {
   "cell_type": "code",
   "execution_count": 4,
   "id": "f3b3b187-7dc2-4ede-a4e6-73fd1bd6fcd8",
   "metadata": {},
   "outputs": [
    {
     "data": {
      "text/html": [
       "<div>\n",
       "<style scoped>\n",
       "    .dataframe tbody tr th:only-of-type {\n",
       "        vertical-align: middle;\n",
       "    }\n",
       "\n",
       "    .dataframe tbody tr th {\n",
       "        vertical-align: top;\n",
       "    }\n",
       "\n",
       "    .dataframe thead th {\n",
       "        text-align: right;\n",
       "    }\n",
       "</style>\n",
       "<table border=\"1\" class=\"dataframe\">\n",
       "  <thead>\n",
       "    <tr style=\"text-align: right;\">\n",
       "      <th></th>\n",
       "      <th>Sex</th>\n",
       "      <th>Length</th>\n",
       "      <th>Diameter</th>\n",
       "      <th>Height</th>\n",
       "      <th>Whole_weight</th>\n",
       "      <th>Shucked_weight</th>\n",
       "      <th>Viscera_weight</th>\n",
       "      <th>Shell_weight</th>\n",
       "      <th>Class</th>\n",
       "    </tr>\n",
       "  </thead>\n",
       "  <tbody>\n",
       "    <tr>\n",
       "      <th>0</th>\n",
       "      <td>M</td>\n",
       "      <td>0.455</td>\n",
       "      <td>0.365</td>\n",
       "      <td>0.095</td>\n",
       "      <td>0.5140</td>\n",
       "      <td>0.2245</td>\n",
       "      <td>0.1010</td>\n",
       "      <td>0.150</td>\n",
       "      <td>negative</td>\n",
       "    </tr>\n",
       "    <tr>\n",
       "      <th>1</th>\n",
       "      <td>M</td>\n",
       "      <td>0.350</td>\n",
       "      <td>0.265</td>\n",
       "      <td>0.090</td>\n",
       "      <td>0.2255</td>\n",
       "      <td>0.0995</td>\n",
       "      <td>0.0485</td>\n",
       "      <td>0.070</td>\n",
       "      <td>negative</td>\n",
       "    </tr>\n",
       "    <tr>\n",
       "      <th>2</th>\n",
       "      <td>F</td>\n",
       "      <td>0.530</td>\n",
       "      <td>0.420</td>\n",
       "      <td>0.135</td>\n",
       "      <td>0.6770</td>\n",
       "      <td>0.2565</td>\n",
       "      <td>0.1415</td>\n",
       "      <td>0.210</td>\n",
       "      <td>negative</td>\n",
       "    </tr>\n",
       "    <tr>\n",
       "      <th>3</th>\n",
       "      <td>M</td>\n",
       "      <td>0.440</td>\n",
       "      <td>0.365</td>\n",
       "      <td>0.125</td>\n",
       "      <td>0.5160</td>\n",
       "      <td>0.2155</td>\n",
       "      <td>0.1140</td>\n",
       "      <td>0.155</td>\n",
       "      <td>negative</td>\n",
       "    </tr>\n",
       "    <tr>\n",
       "      <th>4</th>\n",
       "      <td>I</td>\n",
       "      <td>0.330</td>\n",
       "      <td>0.255</td>\n",
       "      <td>0.080</td>\n",
       "      <td>0.2050</td>\n",
       "      <td>0.0895</td>\n",
       "      <td>0.0395</td>\n",
       "      <td>0.055</td>\n",
       "      <td>negative</td>\n",
       "    </tr>\n",
       "  </tbody>\n",
       "</table>\n",
       "</div>"
      ],
      "text/plain": [
       "  Sex  Length  Diameter  Height  Whole_weight  Shucked_weight  Viscera_weight  \\\n",
       "0   M   0.455     0.365   0.095        0.5140          0.2245          0.1010   \n",
       "1   M   0.350     0.265   0.090        0.2255          0.0995          0.0485   \n",
       "2   F   0.530     0.420   0.135        0.6770          0.2565          0.1415   \n",
       "3   M   0.440     0.365   0.125        0.5160          0.2155          0.1140   \n",
       "4   I   0.330     0.255   0.080        0.2050          0.0895          0.0395   \n",
       "\n",
       "   Shell_weight     Class  \n",
       "0         0.150  negative  \n",
       "1         0.070  negative  \n",
       "2         0.210  negative  \n",
       "3         0.155  negative  \n",
       "4         0.055  negative  "
      ]
     },
     "execution_count": 4,
     "metadata": {},
     "output_type": "execute_result"
    }
   ],
   "source": [
    "# Read the dataset\n",
    "df = pd.read_csv('abalone19.dat')\n",
    "df.head()"
   ]
  },
  {
   "cell_type": "code",
   "execution_count": 5,
   "id": "fc357754-be37-4429-ab5b-de5b0755550b",
   "metadata": {},
   "outputs": [
    {
     "name": "stdout",
     "output_type": "stream",
     "text": [
      "<class 'pandas.core.frame.DataFrame'>\n",
      "RangeIndex: 4174 entries, 0 to 4173\n",
      "Data columns (total 9 columns):\n",
      " #   Column          Non-Null Count  Dtype  \n",
      "---  ------          --------------  -----  \n",
      " 0   Sex             4174 non-null   object \n",
      " 1   Length          4174 non-null   float64\n",
      " 2   Diameter        4174 non-null   float64\n",
      " 3   Height          4174 non-null   float64\n",
      " 4   Whole_weight    4174 non-null   float64\n",
      " 5   Shucked_weight  4174 non-null   float64\n",
      " 6   Viscera_weight  4174 non-null   float64\n",
      " 7   Shell_weight    4174 non-null   float64\n",
      " 8   Class           4174 non-null   object \n",
      "dtypes: float64(7), object(2)\n",
      "memory usage: 293.6+ KB\n"
     ]
    }
   ],
   "source": [
    "# Find out more about the dataset\n",
    "df.info()"
   ]
  },
  {
   "cell_type": "code",
   "execution_count": 6,
   "id": "87d1cff3-9990-4af8-9b12-d8d7772cdaaa",
   "metadata": {},
   "outputs": [
    {
     "data": {
      "text/html": [
       "<div>\n",
       "<style scoped>\n",
       "    .dataframe tbody tr th:only-of-type {\n",
       "        vertical-align: middle;\n",
       "    }\n",
       "\n",
       "    .dataframe tbody tr th {\n",
       "        vertical-align: top;\n",
       "    }\n",
       "\n",
       "    .dataframe thead th {\n",
       "        text-align: right;\n",
       "    }\n",
       "</style>\n",
       "<table border=\"1\" class=\"dataframe\">\n",
       "  <thead>\n",
       "    <tr style=\"text-align: right;\">\n",
       "      <th></th>\n",
       "      <th>Length</th>\n",
       "      <th>Diameter</th>\n",
       "      <th>Height</th>\n",
       "      <th>Whole_weight</th>\n",
       "      <th>Shucked_weight</th>\n",
       "      <th>Viscera_weight</th>\n",
       "      <th>Shell_weight</th>\n",
       "    </tr>\n",
       "  </thead>\n",
       "  <tbody>\n",
       "    <tr>\n",
       "      <th>count</th>\n",
       "      <td>4174.000000</td>\n",
       "      <td>4174.000000</td>\n",
       "      <td>4174.000000</td>\n",
       "      <td>4174.000000</td>\n",
       "      <td>4174.000000</td>\n",
       "      <td>4174.000000</td>\n",
       "      <td>4174.000000</td>\n",
       "    </tr>\n",
       "    <tr>\n",
       "      <th>mean</th>\n",
       "      <td>0.524032</td>\n",
       "      <td>0.407919</td>\n",
       "      <td>0.139524</td>\n",
       "      <td>0.828771</td>\n",
       "      <td>0.359361</td>\n",
       "      <td>0.180607</td>\n",
       "      <td>0.238853</td>\n",
       "    </tr>\n",
       "    <tr>\n",
       "      <th>std</th>\n",
       "      <td>0.120033</td>\n",
       "      <td>0.099187</td>\n",
       "      <td>0.041818</td>\n",
       "      <td>0.490065</td>\n",
       "      <td>0.221771</td>\n",
       "      <td>0.109574</td>\n",
       "      <td>0.139143</td>\n",
       "    </tr>\n",
       "    <tr>\n",
       "      <th>min</th>\n",
       "      <td>0.075000</td>\n",
       "      <td>0.055000</td>\n",
       "      <td>0.000000</td>\n",
       "      <td>0.002000</td>\n",
       "      <td>0.001000</td>\n",
       "      <td>0.000500</td>\n",
       "      <td>0.001500</td>\n",
       "    </tr>\n",
       "    <tr>\n",
       "      <th>25%</th>\n",
       "      <td>0.450000</td>\n",
       "      <td>0.350000</td>\n",
       "      <td>0.115000</td>\n",
       "      <td>0.442125</td>\n",
       "      <td>0.186500</td>\n",
       "      <td>0.093500</td>\n",
       "      <td>0.130000</td>\n",
       "    </tr>\n",
       "    <tr>\n",
       "      <th>50%</th>\n",
       "      <td>0.545000</td>\n",
       "      <td>0.425000</td>\n",
       "      <td>0.140000</td>\n",
       "      <td>0.799750</td>\n",
       "      <td>0.336000</td>\n",
       "      <td>0.171000</td>\n",
       "      <td>0.234000</td>\n",
       "    </tr>\n",
       "    <tr>\n",
       "      <th>75%</th>\n",
       "      <td>0.615000</td>\n",
       "      <td>0.480000</td>\n",
       "      <td>0.165000</td>\n",
       "      <td>1.153000</td>\n",
       "      <td>0.501875</td>\n",
       "      <td>0.252875</td>\n",
       "      <td>0.328875</td>\n",
       "    </tr>\n",
       "    <tr>\n",
       "      <th>max</th>\n",
       "      <td>0.815000</td>\n",
       "      <td>0.650000</td>\n",
       "      <td>1.130000</td>\n",
       "      <td>2.825500</td>\n",
       "      <td>1.488000</td>\n",
       "      <td>0.760000</td>\n",
       "      <td>1.005000</td>\n",
       "    </tr>\n",
       "  </tbody>\n",
       "</table>\n",
       "</div>"
      ],
      "text/plain": [
       "            Length     Diameter       Height  Whole_weight  Shucked_weight  \\\n",
       "count  4174.000000  4174.000000  4174.000000   4174.000000     4174.000000   \n",
       "mean      0.524032     0.407919     0.139524      0.828771        0.359361   \n",
       "std       0.120033     0.099187     0.041818      0.490065        0.221771   \n",
       "min       0.075000     0.055000     0.000000      0.002000        0.001000   \n",
       "25%       0.450000     0.350000     0.115000      0.442125        0.186500   \n",
       "50%       0.545000     0.425000     0.140000      0.799750        0.336000   \n",
       "75%       0.615000     0.480000     0.165000      1.153000        0.501875   \n",
       "max       0.815000     0.650000     1.130000      2.825500        1.488000   \n",
       "\n",
       "       Viscera_weight  Shell_weight  \n",
       "count     4174.000000   4174.000000  \n",
       "mean         0.180607      0.238853  \n",
       "std          0.109574      0.139143  \n",
       "min          0.000500      0.001500  \n",
       "25%          0.093500      0.130000  \n",
       "50%          0.171000      0.234000  \n",
       "75%          0.252875      0.328875  \n",
       "max          0.760000      1.005000  "
      ]
     },
     "execution_count": 6,
     "metadata": {},
     "output_type": "execute_result"
    }
   ],
   "source": [
    "# Produce some stats on the dataset\n",
    "df.describe()"
   ]
  },
  {
   "cell_type": "code",
   "execution_count": 7,
   "id": "224b73f4-09be-46f9-9a5c-76c734e6cb1d",
   "metadata": {},
   "outputs": [
    {
     "data": {
      "text/plain": [
       "Sex\n",
       "M    1526\n",
       "I    1341\n",
       "F    1307\n",
       "Name: count, dtype: int64"
      ]
     },
     "execution_count": 7,
     "metadata": {},
     "output_type": "execute_result"
    }
   ],
   "source": [
    "# We’ll use the most basic machine learning classification algorithm: logistic regression. \n",
    "# It is better to convert all the categorical columns for logistic regression to dummy variables. \n",
    "# we’ll convert the categorical columns (Sex and Class) within the dataset before modeling.\n",
    "# Lets look at the category of Sex\n",
    "# Three Classes: Male, Infant and Female\n",
    "\n",
    "df['Sex'].value_counts()"
   ]
  },
  {
   "cell_type": "code",
   "execution_count": 8,
   "id": "c1eb0ad7-db87-4de2-bb3b-7f2a115f6c43",
   "metadata": {},
   "outputs": [
    {
     "data": {
      "text/plain": [
       "Class\n",
       "negative    4142\n",
       "positive      32\n",
       "Name: count, dtype: int64"
      ]
     },
     "execution_count": 8,
     "metadata": {},
     "output_type": "execute_result"
    }
   ],
   "source": [
    "# Lets look at the category of Class\n",
    "# Two Classes: Negative and Positive\n",
    "df['Class'].value_counts()"
   ]
  },
  {
   "cell_type": "code",
   "execution_count": 9,
   "id": "74785b6a-f8db-4ff9-b19f-cec68bcdb0db",
   "metadata": {},
   "outputs": [
    {
     "data": {
      "text/html": [
       "<div>\n",
       "<style scoped>\n",
       "    .dataframe tbody tr th:only-of-type {\n",
       "        vertical-align: middle;\n",
       "    }\n",
       "\n",
       "    .dataframe tbody tr th {\n",
       "        vertical-align: top;\n",
       "    }\n",
       "\n",
       "    .dataframe thead th {\n",
       "        text-align: right;\n",
       "    }\n",
       "</style>\n",
       "<table border=\"1\" class=\"dataframe\">\n",
       "  <thead>\n",
       "    <tr style=\"text-align: right;\">\n",
       "      <th></th>\n",
       "      <th>Sex</th>\n",
       "      <th>Length</th>\n",
       "      <th>Diameter</th>\n",
       "      <th>Height</th>\n",
       "      <th>Whole_weight</th>\n",
       "      <th>Shucked_weight</th>\n",
       "      <th>Viscera_weight</th>\n",
       "      <th>Shell_weight</th>\n",
       "      <th>Class</th>\n",
       "    </tr>\n",
       "  </thead>\n",
       "  <tbody>\n",
       "    <tr>\n",
       "      <th>0</th>\n",
       "      <td>M</td>\n",
       "      <td>0.455</td>\n",
       "      <td>0.365</td>\n",
       "      <td>0.095</td>\n",
       "      <td>0.5140</td>\n",
       "      <td>0.2245</td>\n",
       "      <td>0.1010</td>\n",
       "      <td>0.1500</td>\n",
       "      <td>0</td>\n",
       "    </tr>\n",
       "    <tr>\n",
       "      <th>1</th>\n",
       "      <td>M</td>\n",
       "      <td>0.350</td>\n",
       "      <td>0.265</td>\n",
       "      <td>0.090</td>\n",
       "      <td>0.2255</td>\n",
       "      <td>0.0995</td>\n",
       "      <td>0.0485</td>\n",
       "      <td>0.0700</td>\n",
       "      <td>0</td>\n",
       "    </tr>\n",
       "    <tr>\n",
       "      <th>2</th>\n",
       "      <td>F</td>\n",
       "      <td>0.530</td>\n",
       "      <td>0.420</td>\n",
       "      <td>0.135</td>\n",
       "      <td>0.6770</td>\n",
       "      <td>0.2565</td>\n",
       "      <td>0.1415</td>\n",
       "      <td>0.2100</td>\n",
       "      <td>0</td>\n",
       "    </tr>\n",
       "    <tr>\n",
       "      <th>3</th>\n",
       "      <td>M</td>\n",
       "      <td>0.440</td>\n",
       "      <td>0.365</td>\n",
       "      <td>0.125</td>\n",
       "      <td>0.5160</td>\n",
       "      <td>0.2155</td>\n",
       "      <td>0.1140</td>\n",
       "      <td>0.1550</td>\n",
       "      <td>0</td>\n",
       "    </tr>\n",
       "    <tr>\n",
       "      <th>4</th>\n",
       "      <td>I</td>\n",
       "      <td>0.330</td>\n",
       "      <td>0.255</td>\n",
       "      <td>0.080</td>\n",
       "      <td>0.2050</td>\n",
       "      <td>0.0895</td>\n",
       "      <td>0.0395</td>\n",
       "      <td>0.0550</td>\n",
       "      <td>0</td>\n",
       "    </tr>\n",
       "    <tr>\n",
       "      <th>...</th>\n",
       "      <td>...</td>\n",
       "      <td>...</td>\n",
       "      <td>...</td>\n",
       "      <td>...</td>\n",
       "      <td>...</td>\n",
       "      <td>...</td>\n",
       "      <td>...</td>\n",
       "      <td>...</td>\n",
       "      <td>...</td>\n",
       "    </tr>\n",
       "    <tr>\n",
       "      <th>4169</th>\n",
       "      <td>M</td>\n",
       "      <td>0.560</td>\n",
       "      <td>0.430</td>\n",
       "      <td>0.155</td>\n",
       "      <td>0.8675</td>\n",
       "      <td>0.4000</td>\n",
       "      <td>0.1720</td>\n",
       "      <td>0.2290</td>\n",
       "      <td>0</td>\n",
       "    </tr>\n",
       "    <tr>\n",
       "      <th>4170</th>\n",
       "      <td>F</td>\n",
       "      <td>0.565</td>\n",
       "      <td>0.450</td>\n",
       "      <td>0.165</td>\n",
       "      <td>0.8870</td>\n",
       "      <td>0.3700</td>\n",
       "      <td>0.2390</td>\n",
       "      <td>0.2490</td>\n",
       "      <td>0</td>\n",
       "    </tr>\n",
       "    <tr>\n",
       "      <th>4171</th>\n",
       "      <td>M</td>\n",
       "      <td>0.590</td>\n",
       "      <td>0.440</td>\n",
       "      <td>0.135</td>\n",
       "      <td>0.9660</td>\n",
       "      <td>0.4390</td>\n",
       "      <td>0.2145</td>\n",
       "      <td>0.2605</td>\n",
       "      <td>0</td>\n",
       "    </tr>\n",
       "    <tr>\n",
       "      <th>4172</th>\n",
       "      <td>M</td>\n",
       "      <td>0.600</td>\n",
       "      <td>0.475</td>\n",
       "      <td>0.205</td>\n",
       "      <td>1.1760</td>\n",
       "      <td>0.5255</td>\n",
       "      <td>0.2875</td>\n",
       "      <td>0.3080</td>\n",
       "      <td>0</td>\n",
       "    </tr>\n",
       "    <tr>\n",
       "      <th>4173</th>\n",
       "      <td>F</td>\n",
       "      <td>0.625</td>\n",
       "      <td>0.485</td>\n",
       "      <td>0.150</td>\n",
       "      <td>1.0945</td>\n",
       "      <td>0.5310</td>\n",
       "      <td>0.2610</td>\n",
       "      <td>0.2960</td>\n",
       "      <td>0</td>\n",
       "    </tr>\n",
       "  </tbody>\n",
       "</table>\n",
       "<p>4174 rows × 9 columns</p>\n",
       "</div>"
      ],
      "text/plain": [
       "     Sex  Length  Diameter  Height  Whole_weight  Shucked_weight  \\\n",
       "0      M   0.455     0.365   0.095        0.5140          0.2245   \n",
       "1      M   0.350     0.265   0.090        0.2255          0.0995   \n",
       "2      F   0.530     0.420   0.135        0.6770          0.2565   \n",
       "3      M   0.440     0.365   0.125        0.5160          0.2155   \n",
       "4      I   0.330     0.255   0.080        0.2050          0.0895   \n",
       "...   ..     ...       ...     ...           ...             ...   \n",
       "4169   M   0.560     0.430   0.155        0.8675          0.4000   \n",
       "4170   F   0.565     0.450   0.165        0.8870          0.3700   \n",
       "4171   M   0.590     0.440   0.135        0.9660          0.4390   \n",
       "4172   M   0.600     0.475   0.205        1.1760          0.5255   \n",
       "4173   F   0.625     0.485   0.150        1.0945          0.5310   \n",
       "\n",
       "      Viscera_weight  Shell_weight  Class  \n",
       "0             0.1010        0.1500      0  \n",
       "1             0.0485        0.0700      0  \n",
       "2             0.1415        0.2100      0  \n",
       "3             0.1140        0.1550      0  \n",
       "4             0.0395        0.0550      0  \n",
       "...              ...           ...    ...  \n",
       "4169          0.1720        0.2290      0  \n",
       "4170          0.2390        0.2490      0  \n",
       "4171          0.2145        0.2605      0  \n",
       "4172          0.2875        0.3080      0  \n",
       "4173          0.2610        0.2960      0  \n",
       "\n",
       "[4174 rows x 9 columns]"
      ]
     },
     "execution_count": 9,
     "metadata": {},
     "output_type": "execute_result"
    }
   ],
   "source": [
    "# Let us convert the Class label into 0 and 1\n",
    "df['Class'] = df['Class'].map(lambda x: 0 if x == 'negative' else 1)\n",
    "df"
   ]
  },
  {
   "cell_type": "code",
   "execution_count": 10,
   "id": "f8b9d7db-b05a-4a8d-bdfb-20c44c619dc1",
   "metadata": {},
   "outputs": [
    {
     "data": {
      "text/html": [
       "<div>\n",
       "<style scoped>\n",
       "    .dataframe tbody tr th:only-of-type {\n",
       "        vertical-align: middle;\n",
       "    }\n",
       "\n",
       "    .dataframe tbody tr th {\n",
       "        vertical-align: top;\n",
       "    }\n",
       "\n",
       "    .dataframe thead th {\n",
       "        text-align: right;\n",
       "    }\n",
       "</style>\n",
       "<table border=\"1\" class=\"dataframe\">\n",
       "  <thead>\n",
       "    <tr style=\"text-align: right;\">\n",
       "      <th></th>\n",
       "      <th>Length</th>\n",
       "      <th>Diameter</th>\n",
       "      <th>Height</th>\n",
       "      <th>Whole_weight</th>\n",
       "      <th>Shucked_weight</th>\n",
       "      <th>Viscera_weight</th>\n",
       "      <th>Shell_weight</th>\n",
       "      <th>Class</th>\n",
       "      <th>Sex_I</th>\n",
       "      <th>Sex_M</th>\n",
       "    </tr>\n",
       "  </thead>\n",
       "  <tbody>\n",
       "    <tr>\n",
       "      <th>0</th>\n",
       "      <td>0.455</td>\n",
       "      <td>0.365</td>\n",
       "      <td>0.095</td>\n",
       "      <td>0.5140</td>\n",
       "      <td>0.2245</td>\n",
       "      <td>0.1010</td>\n",
       "      <td>0.1500</td>\n",
       "      <td>0</td>\n",
       "      <td>False</td>\n",
       "      <td>True</td>\n",
       "    </tr>\n",
       "    <tr>\n",
       "      <th>1</th>\n",
       "      <td>0.350</td>\n",
       "      <td>0.265</td>\n",
       "      <td>0.090</td>\n",
       "      <td>0.2255</td>\n",
       "      <td>0.0995</td>\n",
       "      <td>0.0485</td>\n",
       "      <td>0.0700</td>\n",
       "      <td>0</td>\n",
       "      <td>False</td>\n",
       "      <td>True</td>\n",
       "    </tr>\n",
       "    <tr>\n",
       "      <th>2</th>\n",
       "      <td>0.530</td>\n",
       "      <td>0.420</td>\n",
       "      <td>0.135</td>\n",
       "      <td>0.6770</td>\n",
       "      <td>0.2565</td>\n",
       "      <td>0.1415</td>\n",
       "      <td>0.2100</td>\n",
       "      <td>0</td>\n",
       "      <td>False</td>\n",
       "      <td>False</td>\n",
       "    </tr>\n",
       "    <tr>\n",
       "      <th>3</th>\n",
       "      <td>0.440</td>\n",
       "      <td>0.365</td>\n",
       "      <td>0.125</td>\n",
       "      <td>0.5160</td>\n",
       "      <td>0.2155</td>\n",
       "      <td>0.1140</td>\n",
       "      <td>0.1550</td>\n",
       "      <td>0</td>\n",
       "      <td>False</td>\n",
       "      <td>True</td>\n",
       "    </tr>\n",
       "    <tr>\n",
       "      <th>4</th>\n",
       "      <td>0.330</td>\n",
       "      <td>0.255</td>\n",
       "      <td>0.080</td>\n",
       "      <td>0.2050</td>\n",
       "      <td>0.0895</td>\n",
       "      <td>0.0395</td>\n",
       "      <td>0.0550</td>\n",
       "      <td>0</td>\n",
       "      <td>True</td>\n",
       "      <td>False</td>\n",
       "    </tr>\n",
       "    <tr>\n",
       "      <th>...</th>\n",
       "      <td>...</td>\n",
       "      <td>...</td>\n",
       "      <td>...</td>\n",
       "      <td>...</td>\n",
       "      <td>...</td>\n",
       "      <td>...</td>\n",
       "      <td>...</td>\n",
       "      <td>...</td>\n",
       "      <td>...</td>\n",
       "      <td>...</td>\n",
       "    </tr>\n",
       "    <tr>\n",
       "      <th>4169</th>\n",
       "      <td>0.560</td>\n",
       "      <td>0.430</td>\n",
       "      <td>0.155</td>\n",
       "      <td>0.8675</td>\n",
       "      <td>0.4000</td>\n",
       "      <td>0.1720</td>\n",
       "      <td>0.2290</td>\n",
       "      <td>0</td>\n",
       "      <td>False</td>\n",
       "      <td>True</td>\n",
       "    </tr>\n",
       "    <tr>\n",
       "      <th>4170</th>\n",
       "      <td>0.565</td>\n",
       "      <td>0.450</td>\n",
       "      <td>0.165</td>\n",
       "      <td>0.8870</td>\n",
       "      <td>0.3700</td>\n",
       "      <td>0.2390</td>\n",
       "      <td>0.2490</td>\n",
       "      <td>0</td>\n",
       "      <td>False</td>\n",
       "      <td>False</td>\n",
       "    </tr>\n",
       "    <tr>\n",
       "      <th>4171</th>\n",
       "      <td>0.590</td>\n",
       "      <td>0.440</td>\n",
       "      <td>0.135</td>\n",
       "      <td>0.9660</td>\n",
       "      <td>0.4390</td>\n",
       "      <td>0.2145</td>\n",
       "      <td>0.2605</td>\n",
       "      <td>0</td>\n",
       "      <td>False</td>\n",
       "      <td>True</td>\n",
       "    </tr>\n",
       "    <tr>\n",
       "      <th>4172</th>\n",
       "      <td>0.600</td>\n",
       "      <td>0.475</td>\n",
       "      <td>0.205</td>\n",
       "      <td>1.1760</td>\n",
       "      <td>0.5255</td>\n",
       "      <td>0.2875</td>\n",
       "      <td>0.3080</td>\n",
       "      <td>0</td>\n",
       "      <td>False</td>\n",
       "      <td>True</td>\n",
       "    </tr>\n",
       "    <tr>\n",
       "      <th>4173</th>\n",
       "      <td>0.625</td>\n",
       "      <td>0.485</td>\n",
       "      <td>0.150</td>\n",
       "      <td>1.0945</td>\n",
       "      <td>0.5310</td>\n",
       "      <td>0.2610</td>\n",
       "      <td>0.2960</td>\n",
       "      <td>0</td>\n",
       "      <td>False</td>\n",
       "      <td>False</td>\n",
       "    </tr>\n",
       "  </tbody>\n",
       "</table>\n",
       "<p>4174 rows × 10 columns</p>\n",
       "</div>"
      ],
      "text/plain": [
       "      Length  Diameter  Height  Whole_weight  Shucked_weight  Viscera_weight  \\\n",
       "0      0.455     0.365   0.095        0.5140          0.2245          0.1010   \n",
       "1      0.350     0.265   0.090        0.2255          0.0995          0.0485   \n",
       "2      0.530     0.420   0.135        0.6770          0.2565          0.1415   \n",
       "3      0.440     0.365   0.125        0.5160          0.2155          0.1140   \n",
       "4      0.330     0.255   0.080        0.2050          0.0895          0.0395   \n",
       "...      ...       ...     ...           ...             ...             ...   \n",
       "4169   0.560     0.430   0.155        0.8675          0.4000          0.1720   \n",
       "4170   0.565     0.450   0.165        0.8870          0.3700          0.2390   \n",
       "4171   0.590     0.440   0.135        0.9660          0.4390          0.2145   \n",
       "4172   0.600     0.475   0.205        1.1760          0.5255          0.2875   \n",
       "4173   0.625     0.485   0.150        1.0945          0.5310          0.2610   \n",
       "\n",
       "      Shell_weight  Class  Sex_I  Sex_M  \n",
       "0           0.1500      0  False   True  \n",
       "1           0.0700      0  False   True  \n",
       "2           0.2100      0  False  False  \n",
       "3           0.1550      0  False   True  \n",
       "4           0.0550      0   True  False  \n",
       "...            ...    ...    ...    ...  \n",
       "4169        0.2290      0  False   True  \n",
       "4170        0.2490      0  False  False  \n",
       "4171        0.2605      0  False   True  \n",
       "4172        0.3080      0  False   True  \n",
       "4173        0.2960      0  False  False  \n",
       "\n",
       "[4174 rows x 10 columns]"
      ]
     },
     "execution_count": 10,
     "metadata": {},
     "output_type": "execute_result"
    }
   ],
   "source": [
    "# Let us convert the Sex feature into two dummy variables\n",
    "df = pd.get_dummies(df, columns=['Sex'], drop_first=True)\n",
    "df"
   ]
  },
  {
   "cell_type": "code",
   "execution_count": 11,
   "id": "cdc39a6a-c854-4481-a7e5-2e69ebc70027",
   "metadata": {},
   "outputs": [
    {
     "data": {
      "text/plain": [
       "Class\n",
       "0    0.992333\n",
       "1    0.007667\n",
       "Name: proportion, dtype: float64"
      ]
     },
     "execution_count": 11,
     "metadata": {},
     "output_type": "execute_result"
    }
   ],
   "source": [
    "df['Class'].value_counts(normalize=True)"
   ]
  },
  {
   "cell_type": "code",
   "execution_count": 12,
   "id": "9c3bc4c9-dfb7-450b-9716-0a9263422f8c",
   "metadata": {},
   "outputs": [
    {
     "data": {
      "text/plain": [
       "<Axes: xlabel='Class'>"
      ]
     },
     "execution_count": 12,
     "metadata": {},
     "output_type": "execute_result"
    },
    {
     "data": {
      "image/png": "[encoded data removed]",
      "text/plain": [
       "<Figure size 640x480 with 1 Axes>"
      ]
     },
     "metadata": {},
     "output_type": "display_data"
    }
   ],
   "source": [
    "df['Class'].value_counts().plot(kind='bar')"
   ]
  },
  {
   "cell_type": "code",
   "execution_count": 13,
   "id": "167342f9-4a9d-4bc3-9219-1cb83cf8906f",
   "metadata": {},
   "outputs": [],
   "source": [
    "# Splitting Training and Testing sets\n",
    "# Let’s split the dataset into training (80%) and test sets (20%). \n",
    "# Use the train_test_split function with stratify argument based on Class categories. \n",
    "# So that both the training and test datasets will have similar portions of classes as # the complete dataset. \n",
    "# This is important for imbalanced data.\n",
    "\n",
    "df_train, df_test = train_test_split(df, test_size=0.2, stratify=df['Class'], random_state=888)\n",
    "\n",
    "features = df_train.drop(columns=['Class']).columns"
   ]
  },
  {
   "cell_type": "code",
   "execution_count": 14,
   "id": "bd237670-9701-4393-883a-108e71bc1750",
   "metadata": {},
   "outputs": [
    {
     "data": {
      "text/plain": [
       "Class\n",
       "0    3313\n",
       "1      26\n",
       "Name: count, dtype: int64"
      ]
     },
     "execution_count": 14,
     "metadata": {},
     "output_type": "execute_result"
    }
   ],
   "source": [
    "# Two sets: df_train and df_test. \n",
    "# We’ll use df_train for modeling, and df_test for evaluation.\n",
    "# Print the different classes (0 and 1) that are present in the Training Set\n",
    "df_train['Class'].value_counts()"
   ]
  },
  {
   "cell_type": "code",
   "execution_count": 15,
   "id": "128871e3-839c-4b72-b3bd-0c77dcc3a84d",
   "metadata": {},
   "outputs": [
    {
     "data": {
      "text/plain": [
       "Class\n",
       "0    829\n",
       "1      6\n",
       "Name: count, dtype: int64"
      ]
     },
     "execution_count": 15,
     "metadata": {},
     "output_type": "execute_result"
    }
   ],
   "source": [
    "# Print the different classes (0 and 1) that are present in the Testing Set\n",
    "df_test['Class'].value_counts()"
   ]
  },
  {
   "cell_type": "code",
   "execution_count": 16,
   "id": "b1152c82-067c-4037-9a5a-5269a5d7b989",
   "metadata": {},
   "outputs": [
    {
     "name": "stdout",
     "output_type": "stream",
     "text": [
      "The AUC score for this model using the original unbalanced data ...\n"
     ]
    },
    {
     "data": {
      "text/plain": [
       "np.float64(0.6831523924406916)"
      ]
     },
     "execution_count": 16,
     "metadata": {},
     "output_type": "execute_result"
    }
   ],
   "source": [
    "# Let us train a Logistic Regression with the unbalanced Data and check the auc\n",
    "clf = LogisticRegression(random_state=888)\n",
    "\n",
    "features = df_train.drop(columns=['Class']).columns\n",
    "clf.fit(df_train[features], df_train['Class'])\n",
    "\n",
    "y_pred = clf.predict_proba(df_test[features])[:, 1]\n",
    "\n",
    "print(\"The AUC score for this model using the original unbalanced data ...\")\n",
    "roc_auc_score(df_test['Class'], y_pred)"
   ]
  },
  {
   "cell_type": "code",
   "execution_count": 17,
   "id": "080a526b-9b33-4e2b-bc78-d6e462086f09",
   "metadata": {},
   "outputs": [
    {
     "data": {
      "text/plain": [
       "Class\n",
       "0    3313\n",
       "1    3313\n",
       "Name: count, dtype: int64"
      ]
     },
     "execution_count": 17,
     "metadata": {},
     "output_type": "execute_result"
    }
   ],
   "source": [
    "# we could use the library imbalanced-learn to random oversample.\n",
    "\n",
    "from imblearn.over_sampling import RandomOverSampler\n",
    "from imblearn.under_sampling import RandomUnderSampler\n",
    "from imblearn.over_sampling import SMOTE\n",
    "\n",
    "ros = RandomOverSampler(random_state=888)\n",
    "X_resampled, y_resampled = ros.fit_resample(df_train[features], df_train['Class'])\n",
    "y_resampled.value_counts()"
   ]
  },
  {
   "cell_type": "code",
   "execution_count": 18,
   "id": "c5d0c382-4a8a-46df-837a-cd38604a7bee",
   "metadata": {},
   "outputs": [
    {
     "name": "stdout",
     "output_type": "stream",
     "text": [
      "The AUC score for this model after Random Over Sampling  ...\n"
     ]
    },
    {
     "data": {
      "text/plain": [
       "np.float64(0.8389626055488542)"
      ]
     },
     "execution_count": 18,
     "metadata": {},
     "output_type": "execute_result"
    }
   ],
   "source": [
    "# We can then apply Logistic Regression and calculate the AUC metric.\n",
    "clf = LogisticRegression(random_state=888)\n",
    "clf.fit(X_resampled, y_resampled)\n",
    "y_pred = clf.predict_proba(df_test[features])[:, 1]\n",
    "\n",
    "print(\"The AUC score for this model after Random Over Sampling  ...\")\n",
    "roc_auc_score(df_test['Class'], y_pred)"
   ]
  },
  {
   "cell_type": "code",
   "execution_count": 19,
   "id": "de0c73bb-0391-4ac4-947c-a0ec7533be08",
   "metadata": {},
   "outputs": [
    {
     "name": "stdout",
     "output_type": "stream",
     "text": [
      "Oversampling using SMOTE ...\n"
     ]
    },
    {
     "data": {
      "text/plain": [
       "Class\n",
       "0    3313\n",
       "1    3313\n",
       "Name: count, dtype: int64"
      ]
     },
     "execution_count": 19,
     "metadata": {},
     "output_type": "execute_result"
    }
   ],
   "source": [
    "# Random sampling is easy, but the new samples don’t add more information. \n",
    "# SMOTE improves on that. \n",
    "# SMOTE oversamples the minority class by creating ‘synthetic’ examples.\n",
    "# It involves some methods (nearest neighbors), to generate plausible examples.\n",
    "print(\"Oversampling using SMOTE ...\")\n",
    "from imblearn.over_sampling import SMOTE\n",
    "smote = SMOTE(random_state=888)\n",
    "X_resampled, y_resampled = smote.fit_resample(df_train[features], df_train['Class'])\n",
    "\n",
    "y_resampled.value_counts()"
   ]
  },
  {
   "cell_type": "code",
   "execution_count": 21,
   "id": "ee965223-ddee-443a-aaf5-640206b90894",
   "metadata": {},
   "outputs": [
    {
     "name": "stdout",
     "output_type": "stream",
     "text": [
      "The AUC score for this model after SMOTE ...\n"
     ]
    },
    {
     "data": {
      "text/plain": [
       "np.float64(0.8564535585042219)"
      ]
     },
     "execution_count": 21,
     "metadata": {},
     "output_type": "execute_result"
    }
   ],
   "source": [
    "# We’ll apply logistic regression on the balanced dataset and calculate its AUC.\n",
    "\n",
    "clf = LogisticRegression(random_state=888)\n",
    "clf.fit(X_resampled, y_resampled)\n",
    "y_pred = clf.predict_proba(df_test[features])[:, 1]\n",
    "print(\"The AUC score for this model after SMOTE ...\")\n",
    "roc_auc_score(df_test['Class'], y_pred)"
   ]
  },
  {
   "cell_type": "code",
   "execution_count": 22,
   "id": "b93c6279-770d-43fc-a382-4a65742c2ab0",
   "metadata": {},
   "outputs": [
    {
     "data": {
      "text/plain": [
       "Class\n",
       "0    26\n",
       "1    26\n",
       "Name: count, dtype: int64"
      ]
     },
     "execution_count": 22,
     "metadata": {},
     "output_type": "execute_result"
    }
   ],
   "source": [
    "# Now we will use Undersampling\n",
    "# Undersampling, we will downsize majority class to balance with the minority class.\n",
    "# Simple random undersampling\n",
    "# We’ll begin with simple random undersampling. \n",
    "rus = RandomUnderSampler(random_state=888)\n",
    "X_resampled, y_resampled = rus.fit_resample(df_train[features], df_train['Class'])\n",
    "\n",
    "y_resampled.value_counts()"
   ]
  },
  {
   "cell_type": "code",
   "execution_count": 23,
   "id": "f745491f-4fdc-46a7-9c81-af542f9c32eb",
   "metadata": {},
   "outputs": [
    {
     "name": "stdout",
     "output_type": "stream",
     "text": [
      "The AUC score for this model after Under Sampling ...\n"
     ]
    },
    {
     "data": {
      "text/plain": [
       "np.float64(0.6467631684760756)"
      ]
     },
     "execution_count": 23,
     "metadata": {},
     "output_type": "execute_result"
    }
   ],
   "source": [
    "# And this produces the same AUC as pandas undersampling, since we use the same\n",
    "clf = LogisticRegression(random_state=888)\n",
    "clf.fit(X_resampled, y_resampled)\n",
    "y_pred = clf.predict_proba(df_test[features])[:, 1]\n",
    "print(\"The AUC score for this model after Under Sampling ...\")\n",
    "roc_auc_score(df_test['Class'], y_pred)"
   ]
  },
  {
   "cell_type": "code",
   "execution_count": 24,
   "id": "cbad9ab0-69c7-4b4e-b517-650da61b910e",
   "metadata": {},
   "outputs": [
    {
     "data": {
      "text/plain": [
       "Class\n",
       "0    26\n",
       "1    26\n",
       "Name: count, dtype: int64"
      ]
     },
     "execution_count": 24,
     "metadata": {},
     "output_type": "execute_result"
    }
   ],
   "source": [
    "# Undersampling using K-Means\n",
    "# Besides random sampling, we could also use the cluster centroid of \n",
    "# the K-Means method as the new sample of the majority class. \n",
    "\n",
    "cc = ClusterCentroids(random_state=888)\n",
    "X_resampled, y_resampled = cc.fit_resample(df_train[features], df_train['Class'])\n",
    "\n",
    "y_resampled.value_counts()"
   ]
  },
  {
   "cell_type": "code",
   "execution_count": 25,
   "id": "234e64a8-8a36-4504-95c6-7c8e416b8c66",
   "metadata": {},
   "outputs": [
    {
     "name": "stdout",
     "output_type": "stream",
     "text": [
      "The AUC score for this model after using K-Means ...\n"
     ]
    },
    {
     "data": {
      "text/plain": [
       "np.float64(0.732810615199035)"
      ]
     },
     "execution_count": 25,
     "metadata": {},
     "output_type": "execute_result"
    }
   ],
   "source": [
    "# Use Logistic Regression on the new dataset that is undersampled using K-Means\n",
    "clf = LogisticRegression(random_state=888)\n",
    "\n",
    "clf.fit(X_resampled, y_resampled)\n",
    "y_pred = clf.predict_proba(df_test[features])[:, 1]\n",
    "\n",
    "print(\"The AUC score for this model after using K-Means ...\")\n",
    "roc_auc_score(df_test['Class'], y_pred)"
   ]
  },
  {
   "cell_type": "code",
   "execution_count": 26,
   "id": "6ba471c7-5e67-4cd7-aaa3-d581d0910aee",
   "metadata": {},
   "outputs": [
    {
     "name": "stdout",
     "output_type": "stream",
     "text": [
      "If we want the dataset to be balanced, we need the following weights for Majority vs Minority ..\n"
     ]
    },
    {
     "data": {
      "text/plain": [
       "array([ 0.50392394, 64.21153846])"
      ]
     },
     "execution_count": 26,
     "metadata": {},
     "output_type": "execute_result"
    }
   ],
   "source": [
    "# Weighing classes differently\n",
    "# We can also balance the classes by weighing the data differently\n",
    "# We usually consider each observation equally, with a weight value of 1\n",
    "# But for imbalanced datasets, we can balance the classes by putting more weight   # on the minority classes.\n",
    "# The below code estimates weights for our imbalanced training dataset.\n",
    "\n",
    "weights = compute_class_weight('balanced', classes=df_train['Class'].unique(), y=df_train['Class'])\n",
    "print(\"If we want the dataset to be balanced, we need the following weights for Majority vs Minority ..\")\n",
    "weights"
   ]
  },
  {
   "cell_type": "code",
   "execution_count": 27,
   "id": "537625aa-56f6-43ac-ac6a-6b992b8e9de3",
   "metadata": {},
   "outputs": [
    {
     "name": "stdout",
     "output_type": "stream",
     "text": [
      "Performing the following re-wieghting of classes we get ..\n",
      "1669.5\n",
      "1669.5000000000002\n"
     ]
    }
   ],
   "source": [
    "# Let’s verify that these weights can indeed balance the dataset.\n",
    "# Multiply the counts of each class by their respective weights.\n",
    "\n",
    "print(\"Performing the following re-wieghting of classes we get ..\")\n",
    "print((df_train['Class'] == 0).sum()*weights[0])\n",
    "print((df_train['Class'] == 1).sum()*weights[1])"
   ]
  },
  {
   "cell_type": "code",
   "execution_count": 28,
   "id": "78653ed6-f4ac-4178-b70f-eeb5d8cb44da",
   "metadata": {},
   "outputs": [
    {
     "name": "stdout",
     "output_type": "stream",
     "text": [
      "3339.0\n",
      "3339\n"
     ]
    }
   ],
   "source": [
    "# If we sum up the weights of both classes,\n",
    "# it is equivalent to if we just weight each data by 1.\n",
    "print((df_train['Class'] == 0).sum()*weights[0] + (df_train['Class'] == 1).sum()*weights[1])\n",
    "print((df_train['Class'] == 0).sum() + (df_train['Class'] == 1).sum())"
   ]
  },
  {
   "cell_type": "code",
   "execution_count": 29,
   "id": "618aa69c-9364-4a0a-8d5d-709221f8a8e1",
   "metadata": {},
   "outputs": [
    {
     "name": "stdout",
     "output_type": "stream",
     "text": [
      "The AUC score after using Weighted Logistic Regression (balanced) ...\n"
     ]
    },
    {
     "data": {
      "text/plain": [
       "np.float64(0.8260956976276639)"
      ]
     },
     "execution_count": 29,
     "metadata": {},
     "output_type": "execute_result"
    }
   ],
   "source": [
    "# All right! So now you’ve got the idea of how to weigh classes differently.\n",
    "# What does this mean for a machine learning algorithm like logistic regression?\n",
    "# Different weights make it cost more to misclassify a minority than majority class\n",
    "# We can use code below to apply LR to the differently weighted datasets,\n",
    "# with the extra argument class_weight='balanced’.\n",
    "\n",
    "clf_weighted = LogisticRegression(class_weight='balanced', random_state=888)\n",
    "clf_weighted.fit(df_train[features], df_train['Class'])\n",
    "\n",
    "y_pred = clf_weighted.predict_proba(df_test[features])[:, 1]\n",
    "\n",
    "print(\"The AUC score after using Weighted Logistic Regression (balanced) ...\")\n",
    "roc_auc_score(df_test['Class'], y_pred)"
   ]
  },
  {
   "cell_type": "code",
   "execution_count": 30,
   "id": "2e77f9c4-1403-4220-b245-f1bfe945976b",
   "metadata": {},
   "outputs": [
    {
     "name": "stdout",
     "output_type": "stream",
     "text": [
      "The AUC score after using Weighted Logistic Regresion (weighted) ...\n"
     ]
    },
    {
     "data": {
      "text/plain": [
       "np.float64(0.8373542420587052)"
      ]
     },
     "execution_count": 30,
     "metadata": {},
     "output_type": "execute_result"
    }
   ],
   "source": [
    "# Besides changing the weights of the two classes to balance them, \n",
    "# We can also specify custom weights of positive and negative classes\n",
    "# For example, the below code weighs class 1 by 100 times more than class 0.\n",
    "\n",
    "clf_weighted = LogisticRegression(class_weight={0: 1, 1: 100}, random_state=888)\n",
    "\n",
    "clf_weighted.fit(df_train[features], df_train['Class'])\n",
    "y_pred = clf_weighted.predict_proba(df_test[features])[:, 1]\n",
    "\n",
    "print(\"The AUC score after using Weighted Logistic Regresion (weighted) ...\")\n",
    "roc_auc_score(df_test['Class'], y_pred)"
   ]
  },
  {
   "cell_type": "code",
   "execution_count": null,
   "id": "c27a9d49-20cd-4a94-b5e5-bed8afce59fd",
   "metadata": {},
   "outputs": [],
   "source": []
  }
 ],
 "metadata": {
  "kernelspec": {
   "display_name": "Python 3 (ipykernel)",
   "language": "python",
   "name": "python3"
  },
  "language_info": {
   "codemirror_mode": {
    "name": "ipython",
    "version": 3
   },
   "file_extension": ".py",
   "mimetype": "text/x-python",
   "name": "python",
   "nbconvert_exporter": "python",
   "pygments_lexer": "ipython3",
   "version": "3.12.5"
  }
 },
 "nbformat": 4,
 "nbformat_minor": 5
}
