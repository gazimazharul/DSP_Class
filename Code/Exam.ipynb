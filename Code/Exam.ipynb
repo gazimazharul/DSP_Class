{
 "cells": [
  {
   "cell_type": "code",
   "execution_count": 2,
   "id": "0fc59c44-09aa-431e-834c-e0d8ee2a50fa",
   "metadata": {},
   "outputs": [
    {
     "name": "stdout",
     "output_type": "stream",
     "text": [
      "6\n"
     ]
    }
   ],
   "source": [
    "#Problem 8\n",
    "values = [1, 2, 3, 4, 5, 7, 8, 9, 10]\n",
    "N = len(values)\n",
    "values.sort()\n",
    "miss = 1\n",
    "for idx in range(N):\n",
    "   if values[idx] == miss:\n",
    "       miss += 1\n",
    "print(miss)\n"
   ]
  },
  {
   "cell_type": "code",
   "execution_count": 13,
   "id": "8a0168af-d3ed-46b0-b023-811fa249d0f7",
   "metadata": {},
   "outputs": [
    {
     "name": "stdout",
     "output_type": "stream",
     "text": [
      "3\n"
     ]
    }
   ],
   "source": [
    "#problem 9\n",
    "str = \"Hello World!\"\n",
    "\n",
    "char_count1 = str.count('a')\n",
    "char_count2 = str.count('e')\n",
    "char_count3 = str.count('i')\n",
    "char_count4 = str.count('o')\n",
    "char_count5 = str.count('u')\n",
    "result = char_count1 + char_count1 + char_count2 + char_count3 + char_count4 + char_count5\n",
    "print(result)\n",
    "    "
   ]
  },
  {
   "cell_type": "code",
   "execution_count": 16,
   "id": "ed56fd8a-3429-4f92-9a81-c6b57670f5d1",
   "metadata": {},
   "outputs": [
    {
     "name": "stdout",
     "output_type": "stream",
     "text": [
      "5 4 3 2 1 \n",
      "4 3 2 1 \n",
      "3 2 1 \n",
      "2 1 \n",
      "1 \n"
     ]
    }
   ],
   "source": [
    "#problem 6\n",
    "def print_pattern(num):\n",
    "    for i in range(num, 0, -1):\n",
    "        for j in range(i, 0, -1):\n",
    "            print(j, end=\" \")\n",
    "        print()  # for new line after each row\n",
    "\n",
    "n = 5\n",
    "print_pattern(n)"
   ]
  },
  {
   "cell_type": "code",
   "execution_count": 34,
   "id": "df140236-0735-4c05-a6c8-bd86288fc97b",
   "metadata": {},
   "outputs": [
    {
     "ename": "TypeError",
     "evalue": "cannot unpack non-iterable int object",
     "output_type": "error",
     "traceback": [
      "\u001b[1;31m---------------------------------------------------------------------------\u001b[0m",
      "\u001b[1;31mTypeError\u001b[0m                                 Traceback (most recent call last)",
      "Cell \u001b[1;32mIn[34], line 13\u001b[0m\n\u001b[0;32m     10\u001b[0m latte\u001b[38;5;241m=\u001b[39m \u001b[38;5;241m40\u001b[39m\n\u001b[0;32m     12\u001b[0m total \u001b[38;5;241m=\u001b[39m (daily_sales(coffee_sales))\n\u001b[1;32m---> 13\u001b[0m cap \u001b[38;5;241m=\u001b[39m (\u001b[43mdaily_sales\u001b[49m\u001b[43m(\u001b[49m\u001b[43mcoffee_sales\u001b[49m\u001b[43m[\u001b[49m\u001b[38;5;241;43m0\u001b[39;49m\u001b[43m]\u001b[49m\u001b[43m)\u001b[49m)\n\u001b[0;32m     14\u001b[0m esp \u001b[38;5;241m=\u001b[39m (daily_sales(coffee_sales[\u001b[38;5;241m1\u001b[39m]))\n\u001b[0;32m     15\u001b[0m lat \u001b[38;5;241m=\u001b[39m (daily_sales(coffee_sales[\u001b[38;5;241m2\u001b[39m]))\n",
      "Cell \u001b[1;32mIn[34], line 4\u001b[0m, in \u001b[0;36mdaily_sales\u001b[1;34m(items)\u001b[0m\n\u001b[0;32m      2\u001b[0m \u001b[38;5;28;01mdef\u001b[39;00m \u001b[38;5;21mdaily_sales\u001b[39m(items):\n\u001b[0;32m      3\u001b[0m     total \u001b[38;5;241m=\u001b[39m \u001b[38;5;241m0\u001b[39m\n\u001b[1;32m----> 4\u001b[0m     \u001b[38;5;28;01mfor\u001b[39;00m price, quantity \u001b[38;5;129;01min\u001b[39;00m items:\n\u001b[0;32m      5\u001b[0m         total \u001b[38;5;241m+\u001b[39m\u001b[38;5;241m=\u001b[39m price \u001b[38;5;241m*\u001b[39m quantity\n\u001b[0;32m      6\u001b[0m     \u001b[38;5;28;01mreturn\u001b[39;00m total\n",
      "\u001b[1;31mTypeError\u001b[0m: cannot unpack non-iterable int object"
     ]
    }
   ],
   "source": [
    "#problem 10\n",
    "def daily_sales(items):\n",
    "    total = 0\n",
    "    for price, quantity in items:\n",
    "        total += price * quantity\n",
    "    return total\n",
    "\n",
    "cappucinno = 500\n",
    "espresso = 350\n",
    "latte= 40\n",
    "\n",
    "total = (daily_sales(coffee_sales))\n",
    "cap = (daily_sales(coffee_sales[0]))\n",
    "esp = (daily_sales(coffee_sales[1]))\n",
    "lat = (daily_sales(coffee_sales[2]))\n",
    "\n",
    "coffee_sales = [(espresso, 3), (latte, 5), (cappucinno, 2)] \n",
    "\n",
    "print(\"The total sales for the day is: \", total) \n",
    "print(\"Cappucinno sold Taka\",cap + \"Espresso sold Taka\",esp + \"Latte sold Taka\",lat)"
   ]
  },
  {
   "cell_type": "code",
   "execution_count": 12,
   "id": "ac1d03a8-310a-4b1b-92f5-dfabfdce1f32",
   "metadata": {},
   "outputs": [
    {
     "name": "stdout",
     "output_type": "stream",
     "text": [
      "The string is not a palindrome.\n"
     ]
    }
   ],
   "source": [
    "#problem 7\n",
    "str = \"abcdefghijklmnooamlkjihgfedcba\"\n",
    "rev_str = reversed(str)\n",
    "if list(str) == list(rev_str):\n",
    "   print(\"The string is a palindrome.\")\n",
    "else:\n",
    "   print(\"The string is not a palindrome.\")"
   ]
  },
  {
   "cell_type": "code",
   "execution_count": 35,
   "id": "f7f896e6-eb81-480a-9fa5-068a360b8147",
   "metadata": {},
   "outputs": [
    {
     "name": "stdout",
     "output_type": "stream",
     "text": [
      "Available Coffee Menu:\n",
      "Espresso: $3.0\n",
      "Latte: $4.0\n",
      "Cappuccino: $4.5\n",
      "Americano: $2.5\n",
      "Mocha: $5.0\n"
     ]
    },
    {
     "name": "stdin",
     "output_type": "stream",
     "text": [
      "Enter the type of coffee sold (or 'done' to finish):  Espresso\n",
      "Enter the quantity of Espresso sold:  5\n",
      "Enter the type of coffee sold (or 'done' to finish):  latte\n"
     ]
    },
    {
     "name": "stdout",
     "output_type": "stream",
     "text": [
      "Invalid coffee type. Please choose from the menu.\n"
     ]
    },
    {
     "name": "stdin",
     "output_type": "stream",
     "text": [
      "Enter the type of coffee sold (or 'done' to finish):  Latte\n",
      "Enter the quantity of Latte sold:  6\n",
      "Enter the type of coffee sold (or 'done' to finish):  done\n"
     ]
    },
    {
     "name": "stdout",
     "output_type": "stream",
     "text": [
      "\n",
      "Total sales for the day: $39.00\n"
     ]
    }
   ],
   "source": [
    "##### Coffee sales tracking program\n",
    "\n",
    "def coffee_sales():\n",
    "    # Dictionary to store coffee type and their prices\n",
    "    coffee_menu = {\n",
    "        \"Espresso\": 3.0,\n",
    "        \"Latte\": 4.0,\n",
    "        \"Cappuccino\": 4.5,\n",
    "        \"Americano\": 2.5,\n",
    "        \"Mocha\": 5.0\n",
    "    }\n",
    "\n",
    "    # Initialize total sales to zero\n",
    "    total_sales = 0.0\n",
    "    \n",
    "    # Print the available coffee types and prices\n",
    "    print(\"Available Coffee Menu:\")\n",
    "    for coffee, price in coffee_menu.items():\n",
    "        print(f\"{coffee}: ${price}\")\n",
    "\n",
    "    while True:\n",
    "        # Input from the user\n",
    "        coffee_type = input(\"Enter the type of coffee sold (or 'done' to finish): \")\n",
    "\n",
    "        if coffee_type.lower() == 'done':\n",
    "            break\n",
    "        \n",
    "        if coffee_type in coffee_menu:\n",
    "            try:\n",
    "                quantity = int(input(f\"Enter the quantity of {coffee_type} sold: \"))\n",
    "                # Calculate sales for this type of coffee\n",
    "                sales = coffee_menu[coffee_type] * quantity\n",
    "                total_sales += sales\n",
    "            except ValueError:\n",
    "                print(\"Invalid quantity. Please enter a number.\")\n",
    "        else:\n",
    "            print(\"Invalid coffee type. Please choose from the menu.\")\n",
    "    \n",
    "    print(f\"\\nTotal sales for the day: ${total_sales:.2f}\")\n",
    "\n",
    "# Run the coffee sales tracker\n",
    "coffee_sales()"
   ]
  },
  {
   "cell_type": "code",
   "execution_count": null,
   "id": "eb4b01b2-e41e-46e0-ae43-e51e7b3898e5",
   "metadata": {},
   "outputs": [],
   "source": []
  }
 ],
 "metadata": {
  "kernelspec": {
   "display_name": "Python 3 (ipykernel)",
   "language": "python",
   "name": "python3"
  },
  "language_info": {
   "codemirror_mode": {
    "name": "ipython",
    "version": 3
   },
   "file_extension": ".py",
   "mimetype": "text/x-python",
   "name": "python",
   "nbconvert_exporter": "python",
   "pygments_lexer": "ipython3",
   "version": "3.12.5"
  }
 },
 "nbformat": 4,
 "nbformat_minor": 5
}
