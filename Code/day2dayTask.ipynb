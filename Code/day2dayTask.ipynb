{
 "cells": [
  {
   "cell_type": "code",
   "execution_count": 1,
   "id": "00bb084d-448c-49d5-8d0c-caa201438d82",
   "metadata": {},
   "outputs": [
    {
     "name": "stdin",
     "output_type": "stream",
     "text": [
      "Enter your name:  Mazharul\n"
     ]
    },
    {
     "name": "stdout",
     "output_type": "stream",
     "text": [
      "Hello Mazharul welcome to the nice world\n"
     ]
    }
   ],
   "source": [
    "def hello():\n",
    "  name = input(\"Enter your name: \")\n",
    "  if name:\n",
    "    print (\"Hello \" + str(name)+\" welcome to the nice world\")\n",
    "  else:\n",
    "    print(\"Hello World\") \n",
    "  return \n",
    "  \n",
    "hello()"
   ]
  },
  {
   "cell_type": "code",
   "execution_count": 5,
   "id": "cc8b6a54-c754-4d37-b107-f58471d886ad",
   "metadata": {},
   "outputs": [
    {
     "name": "stdin",
     "output_type": "stream",
     "text": [
      "Enter your name:  Mazharul\n",
      "Enter your roll:  21CSE009\n",
      "Enter your dept name:  CSE\n",
      "Enter your cgpa:  3.53\n",
      "Enter your cgpa of AI Course:  3.75\n",
      "Enter your cgpa of DSA Course:  4.00\n",
      "Enter your cgpa of Math Course:  4.00\n"
     ]
    },
    {
     "name": "stdout",
     "output_type": "stream",
     "text": [
      "{'Name': 'Mazharul', 'Roll': '21CSE009', 'Dept': 'CSE', 'Cgpa': '3.53', 'Marks': {'AI': '3.75', 'DSA': '4.00', 'Math': '4.00'}}\n"
     ]
    }
   ],
   "source": [
    "# Creating a dictionary\n",
    "val1 = input(\"Enter your name: \")\n",
    "val2 = input(\"Enter your roll: \")\n",
    "val3 = input(\"Enter your dept name: \")\n",
    "val4 = input(\"Enter your cgpa: \")\n",
    "val5 = input(\"Enter your cgpa of AI Course: \")\n",
    "val6 = input(\"Enter your cgpa of DSA Course: \")\n",
    "val7 = input(\"Enter your cgpa of Math Course: \")\n",
    "student = {\n",
    "  \"Name\": val1, \n",
    "  \"Roll\": val2, \n",
    "  \"Dept\": val3,\n",
    "  \"Cgpa\": val4,\n",
    "  \"Marks\":{ \"AI\": val5, \n",
    "            \"DSA\": val6, \n",
    "            \"Math\": val7\n",
    "  }\n",
    "    \n",
    "}\n",
    "\n",
    "# printing the dictionary\n",
    "print(student)\n"
   ]
  },
  {
   "cell_type": "code",
   "execution_count": 8,
   "id": "dc52836f-8cd6-4279-b655-61e715bccea7",
   "metadata": {},
   "outputs": [
    {
     "name": "stdin",
     "output_type": "stream",
     "text": [
      "Enter your input string:  Mazharul\n"
     ]
    },
    {
     "name": "stdout",
     "output_type": "stream",
     "text": [
      "Maul\n"
     ]
    }
   ],
   "source": [
    "str = input(\"Enter your input string: \")\n",
    "if len(str) < 2:\n",
    "    print(\"\")\n",
    "else:\n",
    "    print(str[0:2] + str[-2: ])"
   ]
  },
  {
   "cell_type": "code",
   "execution_count": 9,
   "id": "5c9b9d78-fd66-44f5-ae98-59c630479ad0",
   "metadata": {},
   "outputs": [
    {
     "name": "stdout",
     "output_type": "stream",
     "text": [
      "Geeks For Life\n"
     ]
    }
   ],
   "source": [
    "str1 = \"{} {} {}\".format('Geeks', 'For', 'Life')\n",
    "print(str1)"
   ]
  },
  {
   "cell_type": "code",
   "execution_count": 10,
   "id": "18ee5d03-fd6b-4c81-98d2-a33b73a895a2",
   "metadata": {},
   "outputs": [
    {
     "name": "stdout",
     "output_type": "stream",
     "text": [
      "ForGeeksLife\n"
     ]
    }
   ],
   "source": [
    "str2 = \"{1}{0}{2}\".format('Geeks', 'For', 'Life')\n",
    "print(str2)"
   ]
  },
  {
   "cell_type": "code",
   "execution_count": 11,
   "id": "61c21530-1a4b-436c-9297-3c048aba0d44",
   "metadata": {},
   "outputs": [
    {
     "name": "stdout",
     "output_type": "stream",
     "text": [
      "GeeksLifeFor\n"
     ]
    }
   ],
   "source": [
    "str3 = \"{c}{d}{e}\".format(c = 'Geeks', e='For', d='Life')\n",
    "print(str3)"
   ]
  },
  {
   "cell_type": "code",
   "execution_count": 12,
   "id": "30e9b1cb-b312-469e-95bf-4097e3123b5e",
   "metadata": {},
   "outputs": [
    {
     "name": "stdin",
     "output_type": "stream",
     "text": [
      "Enter your input string:  HelloWorld\n"
     ]
    },
    {
     "name": "stdout",
     "output_type": "stream",
     "text": [
      "loo\n",
      "lroWoll\n"
     ]
    }
   ],
   "source": [
    "str = input(\"Enter your input string: \")\n",
    "s1 = str[2:8:2]\n",
    "print(s1)\n",
    "s2 = str[8:1:-1]\n",
    "print(s2)"
   ]
  },
  {
   "cell_type": "code",
   "execution_count": 25,
   "id": "30546337-1c5c-4f4e-afe1-ac317e046005",
   "metadata": {},
   "outputs": [
    {
     "name": "stdout",
     "output_type": "stream",
     "text": [
      "drW\n",
      "or\n"
     ]
    }
   ],
   "source": [
    "str ='HelloWorld'\n",
    "s1 = str[9:3:-2]\n",
    "s2 = str[-4:-2]\n",
    "print(s1)\n",
    "print(s2)"
   ]
  },
  {
   "cell_type": "code",
   "execution_count": 10,
   "id": "6719da41-eb8a-4075-bf03-9cae461b1e48",
   "metadata": {},
   "outputs": [
    {
     "name": "stdin",
     "output_type": "stream",
     "text": [
      "Enter your 1st positive number:  10\n",
      "Enter your 2nd positive number:  2\n"
     ]
    },
    {
     "name": "stdout",
     "output_type": "stream",
     "text": [
      "12\n",
      "8\n",
      "20\n",
      "5.0\n",
      "0\n",
      "100\n",
      "5\n"
     ]
    }
   ],
   "source": [
    "#Class_5\n",
    "val1 =  int(input(\"Enter your 1st positive number: \")) # where val1 > val2\n",
    "val2 =  int(input(\"Enter your 2nd positive number: \"))\n",
    "\n",
    "add = val1 + val2\n",
    "sub = val1 - val2\n",
    "mult = val1 * val2\n",
    "div = val1 / val2\n",
    "mod = val1 % val2\n",
    "exp = val1 ** val2\n",
    "flr_div = val1 // val2\n",
    "\n",
    "print(add)\n",
    "print(sub)\n",
    "print(mult)\n",
    "print(div)\n",
    "print(mod)\n",
    "print(exp)\n",
    "print(flr_div)\n"
   ]
  },
  {
   "cell_type": "code",
   "execution_count": null,
   "id": "7fb0a633-ed9e-4ce1-9027-bc2aeea18adc",
   "metadata": {},
   "outputs": [],
   "source": [
    "# Box Plot\n",
    "# Mean, Mode, Media (Harmonic mean)\n",
    "#Quartile (Q1, Q2, Q3)\n",
    "# Gaussian Distribution (mean, variance)\n",
    "#Left Tail, Right Tail (Skewed)\n",
    "# Histogram, Density Plot, Scatter plot)\n",
    "# Answer each of the above mention topics according to the question what, why it is used, example using math, figure"
   ]
  },
  {
   "cell_type": "code",
   "execution_count": 10,
   "id": "75317345-8a2d-4683-b63b-c1ce01cfacc2",
   "metadata": {},
   "outputs": [
    {
     "name": "stdin",
     "output_type": "stream",
     "text": [
      "Enter your 1st number:  10\n",
      "Enter your 2nd number:  5\n",
      "Enter your 3rd number:  3\n",
      "Enter your 4th number:  4\n"
     ]
    },
    {
     "name": "stdout",
     "output_type": "stream",
     "text": [
      "40\n",
      "50\n",
      "9\n",
      "7\n",
      "4\n"
     ]
    }
   ],
   "source": [
    "#Assignment op\n",
    "a = int(input(\"Enter your 1st number: \"))\n",
    "b = int(input(\"Enter your 2nd number: \"))\n",
    "c = int(input(\"Enter your 3rd number: \"))\n",
    "d = int(input(\"Enter your 4th number: \"))\n",
    "e = d\n",
    "a+=30\n",
    "b*=10\n",
    "c**=2\n",
    "d|=3\n",
    "e>>5\n",
    "\n",
    "print(a)\n",
    "print(b)\n",
    "print(c)\n",
    "print(d)\n",
    "print(e)\n",
    "\n",
    "\n"
   ]
  },
  {
   "cell_type": "code",
   "execution_count": 12,
   "id": "50a3d66b-a749-4d31-baf7-cbdacaa94d02",
   "metadata": {},
   "outputs": [
    {
     "name": "stdout",
     "output_type": "stream",
     "text": [
      "My name is Mazharul, I'm 26\n"
     ]
    }
   ],
   "source": [
    "str1 = \"My name is {fname}, I'm {age}\".format(fname = \"Mazharul\", age = 26) #like placeholder\n",
    "print(str1)"
   ]
  },
  {
   "cell_type": "code",
   "execution_count": 19,
   "id": "a38bb0a6-dba1-4af2-9045-33e80d7e6f9d",
   "metadata": {},
   "outputs": [
    {
     "name": "stdout",
     "output_type": "stream",
     "text": [
      "Number is between the range\n"
     ]
    }
   ],
   "source": [
    "var =5\n",
    "if var > 3 and var < 10 :\n",
    "    print(\"Number is between the range\")\n",
    "elif var > 3 or var < 4 : \n",
    "    print(\"Number is not between the range\")\n",
    "elif not(var > 3 and var < 10):\n",
    "    print(\"true\")\n",
    "else:\n",
    "    print(\"False\")"
   ]
  },
  {
   "cell_type": "code",
   "execution_count": 3,
   "id": "a55ca5be-73ea-4fca-9653-8df76b311d2a",
   "metadata": {},
   "outputs": [
    {
     "name": "stdin",
     "output_type": "stream",
     "text": [
      "Input a year:  2023\n"
     ]
    },
    {
     "name": "stdout",
     "output_type": "stream",
     "text": [
      "Not Leap Year\n"
     ]
    }
   ],
   "source": [
    "#Leap Year or not\n",
    "year = int(input(\"Input a year: \"))\n",
    "\n",
    "if (year % 4 == 0 and year % 100 != 0) or (year % 400 == 0):\n",
    "    print(\"Leap Year\")\n",
    "else:\n",
    "    print(\"Not Leap Year\")"
   ]
  },
  {
   "cell_type": "code",
   "execution_count": 9,
   "id": "8365aaa3-8904-4e3c-b4a7-3d59d4a2ed80",
   "metadata": {},
   "outputs": [
    {
     "name": "stdin",
     "output_type": "stream",
     "text": [
      "Input a positive number:  30 \n",
      "Input a positive number:  40\n",
      "Input a positive number:  79\n"
     ]
    },
    {
     "name": "stdout",
     "output_type": "stream",
     "text": [
      "The greatest among 3 numbers is:79\n"
     ]
    }
   ],
   "source": [
    "#a, b, c =map(int,input().split(\"\"))\n",
    "a = input(\"Input a positive number: \")\n",
    "b = input(\"Input a positive number: \")\n",
    "c = input(\"Input a positive number: \")\n",
    "     \n",
    "if (a>b and a>c): \n",
    "    print(\"The greatest among 3 numbers is:\" + a)\n",
    "elif(b>a and b>c):\n",
    "    print(\"The greatest among 3 numbers is:\" + b)\n",
    "else:\n",
    "    print(\"The greatest among 3 numbers is:\" + c)"
   ]
  },
  {
   "cell_type": "code",
   "execution_count": 11,
   "id": "604318cd-4e89-4203-9e19-7565d5cdb213",
   "metadata": {},
   "outputs": [
    {
     "name": "stdin",
     "output_type": "stream",
     "text": [
      "Enter a number:  60\n"
     ]
    },
    {
     "name": "stdout",
     "output_type": "stream",
     "text": [
      "A-\n"
     ]
    }
   ],
   "source": [
    "#Grade System\n",
    "def runMatch():\n",
    "    num = int(input(\"Enter a number: \"))\n",
    "    \n",
    "    match num:\n",
    "        case num if num >= 80 and num <= 100:\n",
    "            print(\"A+\")\n",
    "        case num if num >= 70 and num <= 79:\n",
    "            print(\"A\")\n",
    "        case num if num >= 60 and num <= 69:\n",
    "            print(\"A-\")\n",
    "        case num if num >= 50 and num <= 59:\n",
    "            print(\"B\")\n",
    "        case num if num >= 40 and num <= 49:\n",
    "            print(\"C\")\n",
    "        case _:\n",
    "            print(\"Fail\")\n",
    "            \n",
    "runMatch()"
   ]
  },
  {
   "cell_type": "code",
   "execution_count": null,
   "id": "f1396334-ac89-4203-ae34-f881bc1286c4",
   "metadata": {},
   "outputs": [],
   "source": []
  }
 ],
 "metadata": {
  "kernelspec": {
   "display_name": "Python 3 (ipykernel)",
   "language": "python",
   "name": "python3"
  },
  "language_info": {
   "codemirror_mode": {
    "name": "ipython",
    "version": 3
   },
   "file_extension": ".py",
   "mimetype": "text/x-python",
   "name": "python",
   "nbconvert_exporter": "python",
   "pygments_lexer": "ipython3",
   "version": "3.12.5"
  }
 },
 "nbformat": 4,
 "nbformat_minor": 5
}
