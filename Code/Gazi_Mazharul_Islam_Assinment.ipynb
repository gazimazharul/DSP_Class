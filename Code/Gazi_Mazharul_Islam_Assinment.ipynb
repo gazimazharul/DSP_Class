{
 "cells": [
  {
   "cell_type": "code",
   "execution_count": 1,
   "id": "55f2383a-179a-4e59-b5c2-e487e82db1b5",
   "metadata": {},
   "outputs": [
    {
     "name": "stdout",
     "output_type": "stream",
     "text": [
      "Total vowels are :11\n"
     ]
    }
   ],
   "source": [
    "#Problem 1: Count the number of vowels in the string \"EDGE BU CSE DigitalSkillsTraining\"\n",
    "\n",
    "String = \"EDGE BU CSE DigitalSkillsTraining\"\n",
    "count = 0\n",
    "\n",
    "String = String.lower()\n",
    "for i in String:\n",
    "    if i == 'a' or i == 'e' or i == 'i' or i == 'o' or i == 'u':\n",
    "        count+=1\n",
    "\n",
    "if count == 0:\n",
    "    print('No vowels found')\n",
    "else:\n",
    "    print('Total vowels are :' + str(count))"
   ]
  },
  {
   "cell_type": "code",
   "execution_count": 6,
   "id": "7071f1ca-9db8-4051-9309-5c535c715609",
   "metadata": {},
   "outputs": [
    {
     "name": "stdout",
     "output_type": "stream",
     "text": [
      "Number of vowels: 11\n",
      "Number of consonants: 19\n"
     ]
    }
   ],
   "source": [
    "#Problem 2: Count the number of vowels and consonants in the string \"EDGE BU CSE DigitalSkillsTraining\"\n",
    "\n",
    "str = \"EDGE BU CSE DigitalSkillsTraining\"\n",
    "vowels = 0\n",
    "consonants = 0\n",
    "for char in str:\n",
    "    if char.lower() in \"aeiou\":\n",
    "        vowels += 1\n",
    "    elif char.isalpha():\n",
    "        consonants += 1\n",
    "print(\"Number of vowels:\", vowels)\n",
    "print(\"Number of consonants:\", consonants)"
   ]
  },
  {
   "cell_type": "code",
   "execution_count": 10,
   "id": "6aa191d6-90f5-403a-9cbf-8632abe206dd",
   "metadata": {},
   "outputs": [
    {
     "name": "stdout",
     "output_type": "stream",
     "text": [
      "The sum of the even nymbers between 11 to 100 is : 2520\n"
     ]
    }
   ],
   "source": [
    "#Problem 3: Compute the sum of even numbers between 11 to 100\n",
    "\n",
    "sum = 0\n",
    "for i in range(11,101):\n",
    " if i % 2 == 0:\n",
    "   sum = sum + i\n",
    "print(\"The sum of the even nymbers between 11 to 100 is :\",sum )"
   ]
  },
  {
   "cell_type": "code",
   "execution_count": 16,
   "id": "6be30fc5-6726-4058-8f7f-516405f28af5",
   "metadata": {},
   "outputs": [
    {
     "name": "stdout",
     "output_type": "stream",
     "text": [
      "17\n"
     ]
    }
   ],
   "source": [
    "#Problem 4: Given a list of numbers from 11 to 25 with one number missing, find the missing number. values=[14,19,11,13,20,15,21,12,22,23,16,25,18,24]\n",
    "\n",
    "values=[14,19,11,13,20,15,21,12,22,23,16,25,18,24]\n",
    "n = len(values)\n",
    "values.sort()\n",
    "miss = 11\n",
    "for idx in range(n):\n",
    "   if values[idx] == miss:\n",
    "       miss += 1\n",
    "print(miss)"
   ]
  },
  {
   "cell_type": "code",
   "execution_count": 19,
   "id": "2edcffcc-7643-4164-9014-34d23a400e32",
   "metadata": {},
   "outputs": [
    {
     "name": "stdout",
     "output_type": "stream",
     "text": [
      "28 is not a prime number\n"
     ]
    }
   ],
   "source": [
    "#Problem 5: Write a program to check if a number is prime.\n",
    "\n",
    "def is_prime(n):\n",
    "    if n <= 1:\n",
    "        return False \n",
    "    for i in range(2, int(n**0.5) + 1):\n",
    "        if n % i == 0:\n",
    "            return False  \n",
    "    return True  \n",
    "\n",
    "n = 28\n",
    "if is_prime(n):\n",
    "    print(n, \"is a prime number\")\n",
    "else:\n",
    "    print(n, \"is not a prime number\")"
   ]
  },
  {
   "cell_type": "code",
   "execution_count": 21,
   "id": "580bb03a-973b-4816-951e-ee596e2b6d1a",
   "metadata": {},
   "outputs": [
    {
     "name": "stdout",
     "output_type": "stream",
     "text": [
      "The gcd of 24 and 15 is :  3\n"
     ]
    }
   ],
   "source": [
    "# Problem 6: Find the GCD of two numbers\n",
    "\n",
    "def gcd(a, b):\n",
    "    if(b == 0):\n",
    "        return a\n",
    "    else:\n",
    "        return gcd(b, a % b)\n",
    "\n",
    "a = 24\n",
    "b = 15\n",
    "print(\"The gcd of 24 and 15 is : \",gcd(24, 15))"
   ]
  },
  {
   "cell_type": "code",
   "execution_count": 23,
   "id": "3f7b7cbe-a1b3-4b3e-8365-66741853c1fb",
   "metadata": {},
   "outputs": [
    {
     "name": "stdin",
     "output_type": "stream",
     "text": [
      "Enter first number:  12\n",
      "Enter second number:  5\n"
     ]
    },
    {
     "name": "stdout",
     "output_type": "stream",
     "text": [
      "The L.C.M. of 12 and 5 is: 60\n"
     ]
    }
   ],
   "source": [
    "# Problem 7: User input two nuumbers. Find the LCM of that two numbers.\n",
    "\n",
    "def find_lcm(a, b):    \n",
    "    if a > b:  \n",
    "        greater = a\n",
    "    else:  \n",
    "        greater = b  \n",
    "    while(True):  \n",
    "        if((greater % a == 0) and (greater % b == 0)):  \n",
    "            lcm = greater  \n",
    "            break  \n",
    "        greater += 1  \n",
    "    return lcm    \n",
    "    \n",
    "val1 = int(input(\"Enter first number: \"))  \n",
    "val2 = int(input(\"Enter second number: \"))  \n",
    " \n",
    "print(\"The L.C.M. of\", val1,\"and\", val2,\"is:\", find_lcm(val1, val2)) "
   ]
  },
  {
   "cell_type": "code",
   "execution_count": 29,
   "id": "4a3ab414-328f-48e7-9f27-311608ba5308",
   "metadata": {},
   "outputs": [
    {
     "name": "stdout",
     "output_type": "stream",
     "text": [
      "Sum of the series up to 256: 510\n"
     ]
    }
   ],
   "source": [
    "# Problem 8: Find the sum of the series 2 + 4 + 8+ 16+...+n\n",
    "\n",
    "def sum_of_series(n):\n",
    "    if n < 2:\n",
    "        return 0\n",
    "    a = 2  \n",
    "    r = 2 \n",
    "    k = 0\n",
    "    while a * (r ** k) <= n:\n",
    "        k += 1\n",
    "    sum_series = a * (r ** k - 1) // (r - 1) #geometric series formula\n",
    "    return sum_series\n",
    "\n",
    "n = 256\n",
    "result = sum_of_series(n)\n",
    "print(f\"Sum of the series up to {n}: {result}\")"
   ]
  },
  {
   "cell_type": "code",
   "execution_count": 30,
   "id": "c30886b7-a786-46ff-9261-0ca1ec452cb9",
   "metadata": {},
   "outputs": [
    {
     "name": "stdout",
     "output_type": "stream",
     "text": [
      "The string is not a palindrome.\n"
     ]
    }
   ],
   "source": [
    "# Problem 9: Check if the given string \"BUCSE\" is a palindrome.\n",
    "\n",
    "str = \"BUCSE\"\n",
    "rev_str = reversed(str)\n",
    "if list(str) == list(rev_str):\n",
    "   print(\"The string is a palindrome.\")\n",
    "else:\n",
    "   print(\"The string is not a palindrome.\")"
   ]
  },
  {
   "cell_type": "code",
   "execution_count": 31,
   "id": "dbc41399-0044-4170-909b-6e385c585d80",
   "metadata": {},
   "outputs": [
    {
     "name": "stdout",
     "output_type": "stream",
     "text": [
      "720\n"
     ]
    }
   ],
   "source": [
    "#Problem 10: Write a Python function to find the factorial of a number using recursion.\n",
    "\n",
    "def factorial(n):\n",
    "    if n == 0:\n",
    "        return 1\n",
    "    return n * factorial(n - 1)\n",
    "    \n",
    "print(factorial(6)) "
   ]
  },
  {
   "cell_type": "code",
   "execution_count": 32,
   "id": "f5478b90-f9bf-491d-90e3-e53c7834b13d",
   "metadata": {},
   "outputs": [
    {
     "name": "stdout",
     "output_type": "stream",
     "text": [
      "[0, 1, 1, 2, 3, 5, 8, 13, 21, 34]\n"
     ]
    }
   ],
   "source": [
    "# Problem 11: Write a Python function to generate the first n Fibonacci numbers.\n",
    "\n",
    "def fibonacci(n):\n",
    "    fib_seq = [0, 1]\n",
    "    while len(fib_seq) < n:\n",
    "        fib_seq.append(fib_seq[-1] + fib_seq[-2])\n",
    "    return fib_seq[:n]\n",
    "    \n",
    "print(fibonacci(10))"
   ]
  },
  {
   "cell_type": "code",
   "execution_count": 37,
   "id": "a45dabc4-ea5d-41f2-92d8-f89419233ebb",
   "metadata": {},
   "outputs": [
    {
     "name": "stdout",
     "output_type": "stream",
     "text": [
      "100.4\n"
     ]
    }
   ],
   "source": [
    "# Problem 12: Write a Python function to convert a temperature given in Celsius to Fahrenheit.\n",
    "\n",
    "def celsius_to_fahrenheit(celsius):\n",
    "    fahrenheit = (celsius * 9/5) + 32\n",
    "    return fahrenheit\n",
    "\n",
    "print(celsius_to_fahrenheit(38)) "
   ]
  },
  {
   "cell_type": "code",
   "execution_count": 38,
   "id": "426a509d-db6c-4abe-8e1a-ee250e4f6f46",
   "metadata": {},
   "outputs": [
    {
     "name": "stdout",
     "output_type": "stream",
     "text": [
      "59\n"
     ]
    }
   ],
   "source": [
    "# Problem 13: Find maximum of three numbers\n",
    "\n",
    "def max_of_three(a, b, c):\n",
    "    return max(a, b, c)\n",
    "\n",
    "print(max_of_three(10, 12, 59))"
   ]
  },
  {
   "cell_type": "code",
   "execution_count": 41,
   "id": "166e5d8e-6a11-45bb-8c8c-b99155dcce0b",
   "metadata": {},
   "outputs": [
    {
     "name": "stdout",
     "output_type": "stream",
     "text": [
      "386.6560305885654\n"
     ]
    }
   ],
   "source": [
    "# Problem 14: Write a Python program to calculate monthly loan payments given the loan amount, annual interest rate, and number of payments.\n",
    "\n",
    "def loan_payment(principal, annual_rate, years):\n",
    "    monthly_rate = annual_rate / 12 / 100\n",
    "    payments = years * 12\n",
    "    payment = principal * (monthly_rate * (1 + monthly_rate) ** payments) / ((1 + monthly_rate) ** payments - 1)\n",
    "    return payment\n",
    "\n",
    "print(loan_payment(20000, 6, 5)) "
   ]
  },
  {
   "cell_type": "code",
   "execution_count": 42,
   "id": "a34840c4-0069-491c-981d-0da707f09ea9",
   "metadata": {},
   "outputs": [
    {
     "name": "stdout",
     "output_type": "stream",
     "text": [
      "6\n"
     ]
    }
   ],
   "source": [
    "# Problem 15: Write a Python function to count the number of words in a given sentence or string. \"Edge BU CSE Digital Skills Training\".\n",
    "\n",
    "def count_words(sentence):\n",
    "    words = sentence.split()\n",
    "    return len(words)\n",
    "    \n",
    "print(count_words(\"Edge BU CSE Digital Skills Training\"))"
   ]
  },
  {
   "cell_type": "code",
   "execution_count": 43,
   "id": "79647dfb-720c-4ae3-97ba-a041c63479da",
   "metadata": {},
   "outputs": [
    {
     "name": "stdout",
     "output_type": "stream",
     "text": [
      "1320\n"
     ]
    }
   ],
   "source": [
    "# Problem 16: Write a Python program to calculate the total cost of shopping, given a list of prices and quantities.\n",
    "\n",
    "def total_cost(items):\n",
    "    total = 0\n",
    "    for price, quantity in items:\n",
    "        total += price * quantity\n",
    "    return total\n",
    "\n",
    "shopping_list = [(350, 2), (40, 3), (500, 1)]  # (price, quantity)\n",
    "print(total_cost(shopping_list)) "
   ]
  },
  {
   "cell_type": "code",
   "execution_count": 46,
   "id": "48651384-0cf2-4ec8-a3b0-f00f25d15f6d",
   "metadata": {},
   "outputs": [
    {
     "name": "stdin",
     "output_type": "stream",
     "text": [
      "Enter number:  12321\n"
     ]
    },
    {
     "name": "stdout",
     "output_type": "stream",
     "text": [
      "12321 is a palindrome number\n"
     ]
    }
   ],
   "source": [
    "# Problem: 17: Write a program that the user takes an input of numbers and checks whether that is palindrome or not\n",
    "\n",
    "def reverse_num(num):\n",
    "   reverse = 0\n",
    "   while(num>0):\n",
    "       last_digit = num%10\n",
    "       reverse = reverse*10 + last_digit\n",
    "       num = num//10\n",
    "   return reverse\n",
    " \n",
    "n=int(input(\"Enter number: \"))\n",
    "reverse = reverse_num(n)\n",
    "if n == reverse:\n",
    "    print(n, \"is a palindrome number\")\n",
    "else:\n",
    "    print(n, \"is not a palindrome number\")"
   ]
  },
  {
   "cell_type": "code",
   "execution_count": 48,
   "id": "deeb9711-6676-45bc-8f59-584ef2b4a0ac",
   "metadata": {},
   "outputs": [
    {
     "name": "stdin",
     "output_type": "stream",
     "text": [
      "what is your string: My name is Mazharul\n"
     ]
    },
    {
     "name": "stdout",
     "output_type": "stream",
     "text": [
      "Without duplicate:  My nameiszhrul\n"
     ]
    }
   ],
   "source": [
    "# Problem: 18:  Write a program to remove the duplicate character of a strings\n",
    "\n",
    "def remove_duplicate(your_str):\n",
    "   result = ''\n",
    "   for char in your_str:\n",
    "       if char not in result:\n",
    "           result += char\n",
    "   return result\n",
    " \n",
    "user_input = input('what is your string:')\n",
    "no_duplicate = remove_duplicate(user_input)\n",
    "print('Without duplicate: ', no_duplicate)"
   ]
  },
  {
   "cell_type": "code",
   "execution_count": 53,
   "id": "521e525d-e494-4219-9739-75e155637246",
   "metadata": {},
   "outputs": [
    {
     "name": "stdin",
     "output_type": "stream",
     "text": [
      "Enter a number:  5\n"
     ]
    },
    {
     "name": "stdout",
     "output_type": "stream",
     "text": [
      "sum of square numbers is  55\n"
     ]
    }
   ],
   "source": [
    "#Problem 19: Write a program to print the sum of the square numbers till n\n",
    "\n",
    "def square_sum(num) :\n",
    "    sum = 0\n",
    "    for i in range(num+1) :\n",
    "        square = (i ** 2)\n",
    "        sum = sum + square\n",
    "    return sum\n",
    "\n",
    "num = int(input('Enter a number: '))\n",
    "sum = square_sum(num)\n",
    "print('sum of square numbers is ', sum)"
   ]
  },
  {
   "cell_type": "code",
   "execution_count": 57,
   "id": "d3e6cea3-6590-4c29-8f24-397d04bf681f",
   "metadata": {},
   "outputs": [
    {
     "name": "stdout",
     "output_type": "stream",
     "text": [
      "What is the local zonal area of sea of Bangladesh in nautical miles?\n"
     ]
    },
    {
     "name": "stdin",
     "output_type": "stream",
     "text": [
      "Your Guess:  12\n"
     ]
    },
    {
     "name": "stdout",
     "output_type": "stream",
     "text": [
      "Correct!!!\n",
      "What is the capital of Bangladesh?\n"
     ]
    },
    {
     "name": "stdin",
     "output_type": "stream",
     "text": [
      "Your Guess:  Dhaka\n"
     ]
    },
    {
     "name": "stdout",
     "output_type": "stream",
     "text": [
      "Correct!!!\n",
      "What is the capital of India?\n"
     ]
    },
    {
     "name": "stdin",
     "output_type": "stream",
     "text": [
      "Your Guess:  delhi\n"
     ]
    },
    {
     "name": "stdout",
     "output_type": "stream",
     "text": [
      "Not Correct. The correct answer is: New Delhi\n",
      "How many seasons are there in Bangladesh?\n"
     ]
    },
    {
     "name": "stdin",
     "output_type": "stream",
     "text": [
      "Your Guess:  6\n"
     ]
    },
    {
     "name": "stdout",
     "output_type": "stream",
     "text": [
      "Correct!!!\n",
      "3/4 Questions Correct\n"
     ]
    }
   ],
   "source": [
    "###### Problem 20: Make a quiz system that asks you 4 random questions and show correct answer if you are wrong.\n",
    "\n",
    "import random\n",
    "\n",
    "Questions = [\n",
    "    'What is the capital of Bangladesh?',\n",
    "    'Who is the current president of Bangladesh?',\n",
    "    'What is the capital of India?',\n",
    "    'What is the capital of Italy?',\n",
    "    'How many divisions are there in Bangladesh?',\n",
    "    'What is the local zonal area of sea of Bangladesh in nautical miles?',\n",
    "    'How many seasons are there in Bangladesh?',\n",
    "    'Sir Alex Ferguson until his retirement coached which team?'\n",
    "]\n",
    "\n",
    "Answers = [\n",
    "    'Dhaka',\n",
    "    'Mohammed Shahabuddin',\n",
    "    'New Delhi',\n",
    "    'Rome',\n",
    "    '8',\n",
    "    '12',\n",
    "    '6',\n",
    "    'Manchester United'\n",
    "]\n",
    "\n",
    "num_right = 0\n",
    "key = list(zip(Questions, Answers))\n",
    "s = random.sample(key, 4)\n",
    "\n",
    "for i in s:\n",
    "    print(i[0])\n",
    "    user_answer = input('Your Guess: ')\n",
    "\n",
    "    if user_answer.strip().lower() == i[1].strip().lower():\n",
    "        print('Correct!!!')\n",
    "        num_right += 1\n",
    "    else:\n",
    "        print(f'Not Correct. The correct answer is: {i[1]}')\n",
    "\n",
    "print(f'{num_right}/4 Questions Correct')"
   ]
  },
  {
   "cell_type": "code",
   "execution_count": null,
   "id": "222a9d06-9c58-481e-86ca-91f60b21f377",
   "metadata": {},
   "outputs": [],
   "source": []
  }
 ],
 "metadata": {
  "kernelspec": {
   "display_name": "Python 3 (ipykernel)",
   "language": "python",
   "name": "python3"
  },
  "language_info": {
   "codemirror_mode": {
    "name": "ipython",
    "version": 3
   },
   "file_extension": ".py",
   "mimetype": "text/x-python",
   "name": "python",
   "nbconvert_exporter": "python",
   "pygments_lexer": "ipython3",
   "version": "3.12.5"
  }
 },
 "nbformat": 4,
 "nbformat_minor": 5
}
