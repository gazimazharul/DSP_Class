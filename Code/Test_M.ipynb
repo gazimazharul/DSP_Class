{
 "cells": [
  {
   "cell_type": "code",
   "execution_count": 1,
   "id": "68507f09-4e98-425f-a736-d4d0efc33dbf",
   "metadata": {},
   "outputs": [
    {
     "ename": "NameError",
     "evalue": "name 'sample' is not defined",
     "output_type": "error",
     "traceback": [
      "\u001b[1;31m---------------------------------------------------------------------------\u001b[0m",
      "\u001b[1;31mNameError\u001b[0m                                 Traceback (most recent call last)",
      "Cell \u001b[1;32mIn[1], line 29\u001b[0m\n\u001b[0;32m     27\u001b[0m num_right\u001b[38;5;241m=\u001b[39m \u001b[38;5;241m0\u001b[39m\n\u001b[0;32m     28\u001b[0m key \u001b[38;5;241m=\u001b[39m \u001b[38;5;28mlist\u001b[39m(\u001b[38;5;28mzip\u001b[39m(Questions, Answers))\n\u001b[1;32m---> 29\u001b[0m s \u001b[38;5;241m=\u001b[39m \u001b[43msample\u001b[49m(key, \u001b[38;5;241m4\u001b[39m)\n\u001b[0;32m     30\u001b[0m \u001b[38;5;28;01mfor\u001b[39;00m i \u001b[38;5;129;01min\u001b[39;00m s:\n\u001b[0;32m     31\u001b[0m     \u001b[38;5;66;03m# in each \"i\" tuple [0] is the question, [1] is the answer\u001b[39;00m\n\u001b[0;32m     32\u001b[0m     \u001b[38;5;28mprint\u001b[39m(i[\u001b[38;5;241m0\u001b[39m])\n",
      "\u001b[1;31mNameError\u001b[0m: name 'sample' is not defined"
     ]
    }
   ],
   "source": [
    "#Quiz\n",
    "Questions = [\n",
    "'What is the capital of the United States of America?',\n",
    "'Who is the current president of the United States of America?',\n",
    "'What is the capital of Nigeria?',\n",
    "'Muhammadu Buhari is the president of which country?',\n",
    "'Uhuru Kenyatta is the president of which country?',\n",
    "'What is the capital of France?',\n",
    "'Which state has only one neighbor?',\n",
    "'Where is Amsterdam located?',\n",
    "'Emmanuel Macron is the president of which country?',\n",
    "'Sir Alex Ferguson until his retirement coached which team?'\n",
    "]\n",
    "\n",
    "Answers=[ 'Washington DC',\n",
    "'Donald Trump',\n",
    "'Abuja',\n",
    "'Nigeria',\n",
    "'Kenya',\n",
    "'Paris',\n",
    "'Maine',\n",
    "'Netherland',\n",
    "'France',\n",
    "'Manchester United'\n",
    "]\n",
    "\n",
    "num_right= 0\n",
    "key = list(zip(Questions, Answers))\n",
    "s = sample(key, 4)\n",
    "for i in s:\n",
    "    # in each \"i\" tuple [0] is the question, [1] is the answer\n",
    "    print(i[0])\n",
    "    user_answer = input('Your Guess: ')\n",
    "    if user_answer.lower() == i[1].lower():\n",
    "        print('Correct!!!')\n",
    "        num_right += 1\n",
    "    else:\n",
    "        print('Not Correct')\n",
    "# Added a final fraction of correct statement\n",
    "print('{}/4 Questions Correct'.format(num_right))"
   ]
  },
  {
   "cell_type": "code",
   "execution_count": 1,
   "id": "1dc03649-00c7-4034-a1de-95ee4cae3bfe",
   "metadata": {},
   "outputs": [
    {
     "name": "stdout",
     "output_type": "stream",
     "text": [
      "<class 'int'>\n",
      "<class 'float'>\n",
      "<class 'complex'>\n"
     ]
    }
   ],
   "source": [
    "X = 100\n",
    "Y = 3.1416\n",
    "Z = 2 + 4j\n",
    "\n",
    "print( type(X) )\t\n",
    "print( type(Y) )\t\t\n",
    "print( type(Z) )\t"
   ]
  },
  {
   "cell_type": "code",
   "execution_count": 2,
   "id": "d3848632-c93e-4c01-ac6a-5e56acd64104",
   "metadata": {},
   "outputs": [
    {
     "name": "stdout",
     "output_type": "stream",
     "text": [
      "University of Barishal\n",
      "University 'of' Barishal\n",
      "University of Barishal\n"
     ]
    }
   ],
   "source": [
    "print('University of Barishal')\n",
    "print(\"University 'of' Barishal\")\n",
    "print('''University of Barishal''')"
   ]
  },
  {
   "cell_type": "code",
   "execution_count": 4,
   "id": "63f0fcde-e5f4-42d1-9b94-2d445cc406a2",
   "metadata": {},
   "outputs": [
    {
     "name": "stdout",
     "output_type": "stream",
     "text": [
      "Mazharul\n",
      "<class 'str'>\n",
      "M\n",
      "Mazharul Islam\n"
     ]
    }
   ],
   "source": [
    "A = \"Mazharul\"\n",
    "print(A)\n",
    "print(type(A))\n",
    "print(A[0])\n",
    "print(A + \" Islam\")"
   ]
  },
  {
   "cell_type": "code",
   "execution_count": 5,
   "id": "82110215-dcde-4bf0-8905-20d873c1c199",
   "metadata": {},
   "outputs": [
    {
     "name": "stdout",
     "output_type": "stream",
     "text": [
      "MazharulMazharul\n"
     ]
    }
   ],
   "source": [
    "X = \"Mazharul\"\n",
    "print(X * 2)"
   ]
  },
  {
   "cell_type": "code",
   "execution_count": 12,
   "id": "09b24848-3376-43a2-af8e-d04fff88f2d0",
   "metadata": {},
   "outputs": [
    {
     "name": "stdout",
     "output_type": "stream",
     "text": [
      "[2, 5, 7, 11]\n",
      "<class 'list'>\n",
      "1\n",
      "['Python', 'CPP', 'Java']\n"
     ]
    }
   ],
   "source": [
    "X = [ 2, 5, 7, 11 ]\n",
    "Y = [ 2, 3.1416, 'CSE' ]\n",
    "Z = [ 1, 2.5, 1+3j, ['Python','CPP','Java'] ]\n",
    "print( X )\t\t\t\n",
    "print( type(Y) )\n",
    "print( Z[0] )\t\t\t\n",
    "print( Z[3] )"
   ]
  },
  {
   "cell_type": "code",
   "execution_count": 17,
   "id": "75adcba5-9c71-47ae-bc04-1102e5372c3b",
   "metadata": {},
   "outputs": [
    {
     "name": "stdout",
     "output_type": "stream",
     "text": [
      "{2, 11, 7}\n",
      "<class 'set'>\n",
      "3\n"
     ]
    }
   ],
   "source": [
    "X = { 7, 2, 2, 7, 11 }\n",
    "print( X )\t\t\t\n",
    "print( type(X) )\t\t\t\n",
    "print( len(X) )\t"
   ]
  },
  {
   "cell_type": "code",
   "execution_count": 25,
   "id": "d920906d-3b53-44e9-be9e-7b3dcabcab14",
   "metadata": {},
   "outputs": [
    {
     "name": "stdout",
     "output_type": "stream",
     "text": [
      "Mazharul\n",
      "16CSE034\n",
      "21CSE009\n"
     ]
    }
   ],
   "source": [
    "StudentInfo = {'Name': 'Mazharul', 'Roll': '16CSE034', 'Dept': 'CSE'\n",
    "}\n",
    "print(StudentInfo['Name'])\n",
    "print(StudentInfo['Roll'])\n",
    "StudentInfo['Roll'] = '21CSE009'\n",
    "print(StudentInfo['Roll'])"
   ]
  },
  {
   "cell_type": "code",
   "execution_count": 26,
   "id": "a6d702c6-bc28-4181-a232-b5a133910931",
   "metadata": {},
   "outputs": [
    {
     "name": "stdout",
     "output_type": "stream",
     "text": [
      "<class 'float'>\n"
     ]
    }
   ],
   "source": [
    "X = 101\n",
    "Y = 3.1416\n",
    "Z = X + Y\n",
    "print(type(Z))\n"
   ]
  },
  {
   "cell_type": "code",
   "execution_count": 27,
   "id": "fdeed11d-43f0-4092-a09e-9a545ba280aa",
   "metadata": {},
   "outputs": [
    {
     "name": "stdout",
     "output_type": "stream",
     "text": [
      "13.5 <class 'float'>\n",
      "11 <class 'int'>\n"
     ]
    }
   ],
   "source": [
    "A = 10\n",
    "B = 3.5\n",
    "C = True\n",
    "\n",
    "D = A + B\n",
    "print( D, type(D) )\t\n",
    "\n",
    "E = A + C\n",
    "print( E, type(E) )"
   ]
  },
  {
   "cell_type": "code",
   "execution_count": 28,
   "id": "7755c479-63c6-408e-8391-3dda5f99668b",
   "metadata": {},
   "outputs": [
    {
     "name": "stdout",
     "output_type": "stream",
     "text": [
      "3\n",
      "14\n"
     ]
    }
   ],
   "source": [
    "a = int( 3.14 )\n",
    "print(a) \n",
    "\n",
    "b = int (3.6 * 4)\n",
    "print(b)"
   ]
  },
  {
   "cell_type": "code",
   "execution_count": 29,
   "id": "ad7cb537-dd1a-4cb3-81c4-f11f5e18018a",
   "metadata": {},
   "outputs": [
    {
     "name": "stdout",
     "output_type": "stream",
     "text": [
      "51\n"
     ]
    }
   ],
   "source": [
    "a = int( \"110011\", 2 )\n",
    "print(a)"
   ]
  },
  {
   "cell_type": "code",
   "execution_count": 30,
   "id": "cab2788c-9b0f-40ec-85f9-48c1d7e7fa1a",
   "metadata": {},
   "outputs": [
    {
     "name": "stdout",
     "output_type": "stream",
     "text": [
      "681\n"
     ]
    }
   ],
   "source": [
    "b = int(\"2A9\", 16) \n",
    "print(b)"
   ]
  },
  {
   "cell_type": "code",
   "execution_count": 31,
   "id": "9c2491a9-020c-4126-8eb7-2be4ea6a6cbf",
   "metadata": {},
   "outputs": [
    {
     "name": "stdout",
     "output_type": "stream",
     "text": [
      "<class 'dict'>\n",
      "{1: 100, 2: 200, 3: 300}\n"
     ]
    }
   ],
   "source": [
    "X = {1:100, 2:200, 3:300}\n",
    "print(type(X))\t\t\n",
    "X = str(X)\n",
    "print( X )"
   ]
  },
  {
   "cell_type": "code",
   "execution_count": 32,
   "id": "daa366bb-f517-4fbf-9db4-6a32148e303c",
   "metadata": {},
   "outputs": [
    {
     "name": "stdout",
     "output_type": "stream",
     "text": [
      "['c', 's', 'e']\n",
      "(2, 3, 5)\n"
     ]
    }
   ],
   "source": [
    "a = [2, 3, 5]\n",
    "b = \"cse\"\n",
    "obj = list( b ) \n",
    "print(obj)\n",
    "obj = tuple(a)\n",
    "print(obj)"
   ]
  },
  {
   "cell_type": "code",
   "execution_count": 35,
   "id": "50976e06-8d0b-40d1-965c-20e650f3b9e9",
   "metadata": {},
   "outputs": [
    {
     "name": "stdin",
     "output_type": "stream",
     "text": [
      "Enter your name:  Mazharul\n"
     ]
    },
    {
     "name": "stdout",
     "output_type": "stream",
     "text": [
      "Hello Mazharul! Welcome to python Programming Course!\n"
     ]
    }
   ],
   "source": [
    "usr = input('Enter your name: ')\n",
    "print('Hello ' + usr +'!'+ ' Welcome to python Programming Course!')"
   ]
  },
  {
   "cell_type": "code",
   "execution_count": 43,
   "id": "70c64bf3-849d-4be6-aa0d-885d36596908",
   "metadata": {},
   "outputs": [
    {
     "name": "stdout",
     "output_type": "stream",
     "text": [
      "cd\n",
      "abcdef\n",
      "abcdef\n"
     ]
    }
   ],
   "source": [
    "str = \"abcdef\"\n",
    "print(str[ 2 : 4 ])\n",
    "print(str[ : 6 ])\n",
    "print(str[ 0 : ])"
   ]
  },
  {
   "cell_type": "code",
   "execution_count": 44,
   "id": "0be9b928-f871-4360-8e78-3d0711376ad2",
   "metadata": {},
   "outputs": [
    {
     "name": "stdin",
     "output_type": "stream",
     "text": [
      " Mazharul\n"
     ]
    },
    {
     "name": "stdout",
     "output_type": "stream",
     "text": [
      "Maul\n"
     ]
    }
   ],
   "source": [
    "str = input()\n",
    "if len(str) < 2:\n",
    "   print('')\n",
    "print(str[0:2] + str[-2:])"
   ]
  },
  {
   "cell_type": "code",
   "execution_count": 45,
   "id": "b24f82de-111b-4b7c-a853-009f5e7a0035",
   "metadata": {},
   "outputs": [
    {
     "name": "stdout",
     "output_type": "stream",
     "text": [
      "loo\n",
      "lroWoll\n"
     ]
    }
   ],
   "source": [
    "str = \"HelloWorld\"\n",
    "print(str[2:8:2])\n",
    "print(str[8:1:-1])"
   ]
  },
  {
   "cell_type": "code",
   "execution_count": 56,
   "id": "ab4e8c8a-9fc3-402a-9b8c-554d45534d40",
   "metadata": {},
   "outputs": [
    {
     "name": "stdout",
     "output_type": "stream",
     "text": [
      "lool\n",
      "or\n",
      "lroW\n"
     ]
    }
   ],
   "source": [
    "str = \"HelloWorld\"\n",
    "print(str[8:1:-2])\n",
    "print(str[-4:-2])\n",
    "print(str[-2:-6: -1])"
   ]
  },
  {
   "cell_type": "code",
   "execution_count": 48,
   "id": "1f6c67db-394d-475c-8316-1588ec57d9f6",
   "metadata": {},
   "outputs": [
    {
     "name": "stdout",
     "output_type": "stream",
     "text": [
      "64\n"
     ]
    }
   ],
   "source": [
    "X = 2<<2**2+1\n",
    "print( X )"
   ]
  },
  {
   "cell_type": "code",
   "execution_count": 50,
   "id": "2cf4eeaa-a60e-499f-b7b8-5cb317ddce89",
   "metadata": {},
   "outputs": [
    {
     "name": "stdin",
     "output_type": "stream",
     "text": [
      " 1999\n"
     ]
    },
    {
     "name": "stdout",
     "output_type": "stream",
     "text": [
      "Not Leap Year\n"
     ]
    }
   ],
   "source": [
    "year = int(input())\n",
    "flag = 0 # 1 means leap year, otherwise 0\n",
    "\n",
    "if year % 400 == 0:\n",
    "   flag = 1\n",
    "elif year%100 != 0 and year%4 == 0:\n",
    "   flag = 1\n",
    "\n",
    "if(flag):\n",
    "   print(\"Leap Year\")\n",
    "else:\n",
    "   print(\"Not Leap Year\")"
   ]
  },
  {
   "cell_type": "code",
   "execution_count": 54,
   "id": "d3bd7b74-447e-45af-ae26-5af3049f72fd",
   "metadata": {},
   "outputs": [
    {
     "name": "stdin",
     "output_type": "stream",
     "text": [
      " 2000-2020\n"
     ]
    },
    {
     "name": "stdout",
     "output_type": "stream",
     "text": [
      "6\n"
     ]
    }
   ],
   "source": [
    "def test(r_years):\n",
    "   start_year, end_year = map(int, r_years.split('-'))\n",
    "   return sum(is_leap_year(year) for year in range(start_year, end_year+1))\n",
    "def is_leap_year(y):\n",
    "   if y % 400 == 0:\n",
    "       return True\n",
    "   if y % 100 == 0:\n",
    "       return False\n",
    "   if y % 4 == 0:\n",
    "       return True\n",
    "   else:\n",
    "       return False\n",
    "\n",
    "text = input()\n",
    "print(test(text))\n"
   ]
  },
  {
   "cell_type": "code",
   "execution_count": 55,
   "id": "af0c330f-f306-41a2-957e-c201b5834aa0",
   "metadata": {},
   "outputs": [
    {
     "name": "stdin",
     "output_type": "stream",
     "text": [
      " 01733471165\n"
     ]
    },
    {
     "name": "stdout",
     "output_type": "stream",
     "text": [
      "Grameenphone\n"
     ]
    }
   ],
   "source": [
    "num = input()\n",
    "\n",
    "if(len(num)!=11):\n",
    "   print(\"INV\")\n",
    "elif(num[:3]==\"017\" or num[:3]==\"013\"):\n",
    "   print(\"Grameenphone\")\n",
    "elif(num[:3]==\"014\" or num[:3]==\"019\"):\n",
    "   print(\"Banglalink\")\n",
    "elif(num[:3]==\"015\"):\n",
    "   print(\"Teletalk\")\n",
    "elif(num[:3]==\"016\"):\n",
    "   print(\"Airtel\")\n",
    "elif(num[:3]==\"018\"):\n",
    "   print(\"Robi\")\n",
    "else:\n",
    "   print(\"INV\")"
   ]
  },
  {
   "cell_type": "code",
   "execution_count": 4,
   "id": "8e208452-3fd5-425f-880c-e6097a94d0a0",
   "metadata": {},
   "outputs": [
    {
     "name": "stdin",
     "output_type": "stream",
     "text": [
      "Enter a positive number:  20\n",
      "Enter another positive number:  6\n"
     ]
    },
    {
     "name": "stdout",
     "output_type": "stream",
     "text": [
      "The GCD of 20 and 6 is 2.\n"
     ]
    }
   ],
   "source": [
    "#GCD\n",
    "x = int(input(\"Enter a positive number: \"))\n",
    "y = int(input(\"Enter another positive number: \"))\n",
    "n = min(x,y)\n",
    "gcd = 0\n",
    "for i in range(1,n+1):\n",
    "   if x%i == 0 and y%i == 0:\n",
    "       gcd = i\n",
    "print(f\"The GCD of {x} and {y} is {gcd}.\")\n"
   ]
  },
  {
   "cell_type": "code",
   "execution_count": 5,
   "id": "d62644ac-53dd-403c-96f8-d5a5b1f4697c",
   "metadata": {},
   "outputs": [
    {
     "name": "stdin",
     "output_type": "stream",
     "text": [
      "Enter a positive number:  5\n",
      "Enter a positive number:  7\n"
     ]
    },
    {
     "name": "stdout",
     "output_type": "stream",
     "text": [
      "LCM of 5 and 7 is 35\n"
     ]
    }
   ],
   "source": [
    "#LCM\n",
    "num1 = int(input(\"Enter a positive number: \"))\n",
    "num2 = int(input(\"Enter a positive number: \"))\n",
    "for i in range(max(num1, num2), 1 + (num1 * num2), max(num1, num2)):\n",
    "   if i % num1 == i % num2 == 0:\n",
    "       lcm = i\n",
    "       break\n",
    "print(\"LCM of\", num1, \"and\", num2, \"is\", lcm)\n"
   ]
  },
  {
   "cell_type": "code",
   "execution_count": 2,
   "id": "df71a37b-1811-48f7-bf91-a3d28e51eab4",
   "metadata": {},
   "outputs": [
    {
     "name": "stdin",
     "output_type": "stream",
     "text": [
      "How many contacts do you want to save?  2\n",
      "Enter name:  mazharul\n",
      "Enter phone number for mazharul:  018\n",
      "Enter name:  fahim\n",
      "Enter phone number for fahim:  039\n"
     ]
    },
    {
     "name": "stdout",
     "output_type": "stream",
     "text": [
      " mazharul\n",
      "  018\n",
      " fahim\n",
      "  039\n"
     ]
    }
   ],
   "source": []
  },
  {
   "cell_type": "code",
   "execution_count": null,
   "id": "7dbb748e-e925-4987-98c9-1808617dc8d0",
   "metadata": {},
   "outputs": [],
   "source": []
  }
 ],
 "metadata": {
  "kernelspec": {
   "display_name": "Python 3 (ipykernel)",
   "language": "python",
   "name": "python3"
  },
  "language_info": {
   "codemirror_mode": {
    "name": "ipython",
    "version": 3
   },
   "file_extension": ".py",
   "mimetype": "text/x-python",
   "name": "python",
   "nbconvert_exporter": "python",
   "pygments_lexer": "ipython3",
   "version": "3.12.5"
  }
 },
 "nbformat": 4,
 "nbformat_minor": 5
}
