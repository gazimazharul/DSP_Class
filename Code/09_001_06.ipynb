{
 "cells": [
  {
   "cell_type": "code",
   "execution_count": 27,
   "id": "bd95ccf9-2100-43bb-bbb9-857766184062",
   "metadata": {},
   "outputs": [
    {
     "name": "stdin",
     "output_type": "stream",
     "text": [
      "How many contacts do you want to save?  3\n",
      "Enter name:  Noyon1\n",
      "Enter phone number for Noyon1:  01723223452\n",
      "Enter name:  Noyon2\n",
      "Enter phone number for Noyon2:  0121213223\n",
      "Enter name:  Noyon3\n",
      "Enter phone number for Noyon3:  0923223232\n"
     ]
    },
    {
     "name": "stdout",
     "output_type": "stream",
     "text": [
      " Noyon1 01723223452\n",
      " Noyon2 0121213223\n",
      " Noyon3 0923223232\n"
     ]
    }
   ],
   "source": [
    "#Problem_1\n",
    "\n",
    "def save_contacts():\n",
    "    contacts = [] \n",
    "    n = int(input(\"How many contacts do you want to save? \")) \n",
    "    for _ in range(n):\n",
    "        name = input(\"Enter name: \")\n",
    "        phone_number = input(f\"Enter phone number for {name}: \")\n",
    "       \n",
    "        contact = {\"name\": name, \"phone_number\": phone_number}\n",
    "        contacts.append(contact)\n",
    "    return contacts, n\n",
    "\n",
    "contacts, total_contacts = save_contacts()\n",
    "for contact in contacts:\n",
    "    print(f\" {contact['name']} {contact['phone_number']}\")"
   ]
  },
  {
   "cell_type": "code",
   "execution_count": 21,
   "id": "b25d8167-aa00-4626-ae31-1f2734999277",
   "metadata": {},
   "outputs": [
    {
     "name": "stdin",
     "output_type": "stream",
     "text": [
      "Enter the number of friends you invited:  10\n",
      "Enter the number of slices per pizza:  3\n"
     ]
    },
    {
     "name": "stdout",
     "output_type": "stream",
     "text": [
      "\n",
      "4\n"
     ]
    }
   ],
   "source": [
    "#Problem_2\n",
    "\n",
    "def calculate_pizzas(n, m):\n",
    "    total_people = n + 1\n",
    "    pizzas_needed = (total_people + m - 1) // m\n",
    "    return pizzas_needed\n",
    "\n",
    "n = int(input(\"Enter the number of friends you invited: \"))\n",
    "m = int(input(\"Enter the number of slices per pizza: \"))\n",
    "pizzas_required = calculate_pizzas(n, m)\n",
    "print(f\"\\n{pizzas_required}\")"
   ]
  },
  {
   "cell_type": "code",
   "execution_count": 9,
   "id": "9111537c-1e46-4e27-8f3a-dc33c9b181f8",
   "metadata": {},
   "outputs": [
    {
     "name": "stdin",
     "output_type": "stream",
     "text": [
      "Enter six-digit ticket number:  111222\n"
     ]
    },
    {
     "name": "stdout",
     "output_type": "stream",
     "text": [
      "NO\n"
     ]
    }
   ],
   "source": [
    "#Problem_3\n",
    "def is_lucky_ticket(ticket_number):\n",
    "    ticket_str = str(ticket_number).zfill(6)\n",
    "    first_half = ticket_str[:3]\n",
    "    last_half = ticket_str[3:]\n",
    "    sum_first_half = sum(int(digit) for digit in first_half)\n",
    "    sum_last_half = sum(int(digit) for digit in last_half)\n",
    "    \n",
    "    if sum_first_half == sum_last_half:\n",
    "        return \"YES\"\n",
    "    else:\n",
    "        return \"NO\"\n",
    "\n",
    "ticket_number = input(\"Enter six-digit ticket number: \")\n",
    "result = is_lucky_ticket(ticket_number)\n",
    "print(f\"{result}\")\n"
   ]
  },
  {
   "cell_type": "code",
   "execution_count": 13,
   "id": "9619c599-a215-40b6-bf99-d5b66813b09e",
   "metadata": {},
   "outputs": [
    {
     "name": "stdin",
     "output_type": "stream",
     "text": [
      "Enter the first number:  4\n",
      "Enter the second number:  0\n",
      "Enter an operator (+, -, *, /):  /\n"
     ]
    },
    {
     "name": "stdout",
     "output_type": "stream",
     "text": [
      "Result: Error: Division by 0\n"
     ]
    }
   ],
   "source": [
    "#Problem_4\n",
    "def calculator(x, y, operator):\n",
    "    if operator == '+':\n",
    "        return x + y\n",
    "    elif operator == '-':\n",
    "        return x - y\n",
    "    elif operator == '*':\n",
    "        return x * y\n",
    "    elif operator == '/':\n",
    "        if y == 0:\n",
    "            return \"Error: Division by 0\"\n",
    "        else:\n",
    "            return x / y\n",
    "    else:\n",
    "        return \"Error: Invalid operator\"\n",
    "\n",
    "x = int(input(\"Enter the first number: \"))\n",
    "y = int(input(\"Enter the second number: \"))\n",
    "operator = input(\"Enter an operator (+, -, *, /): \")\n",
    "\n",
    "result = calculator(x, y, operator)\n",
    "print(\"Result:\", result)"
   ]
  },
  {
   "cell_type": "code",
   "execution_count": null,
   "id": "7d72072d-bab6-45da-9490-95a218abba42",
   "metadata": {},
   "outputs": [],
   "source": []
  }
 ],
 "metadata": {
  "kernelspec": {
   "display_name": "Python 3 (ipykernel)",
   "language": "python",
   "name": "python3"
  },
  "language_info": {
   "codemirror_mode": {
    "name": "ipython",
    "version": 3
   },
   "file_extension": ".py",
   "mimetype": "text/x-python",
   "name": "python",
   "nbconvert_exporter": "python",
   "pygments_lexer": "ipython3",
   "version": "3.12.5"
  }
 },
 "nbformat": 4,
 "nbformat_minor": 5
}
